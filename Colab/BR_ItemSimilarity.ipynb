{
  "nbformat": 4,
  "nbformat_minor": 0,
  "metadata": {
    "colab": {
      "name": "BR_ItemSimilarity.ipynb",
      "provenance": [],
      "collapsed_sections": [],
      "mount_file_id": "1I3CQcYxj35pTHnwTKTaEC3ZTaWVAZc6a",
      "authorship_tag": "ABX9TyMJWORStTsG0aZM+k0muo6h",
      "include_colab_link": true
    },
    "kernelspec": {
      "name": "python3",
      "display_name": "Python 3"
    },
    "language_info": {
      "name": "python"
    }
  },
  "cells": [
    {
      "cell_type": "markdown",
      "metadata": {
        "id": "view-in-github",
        "colab_type": "text"
      },
      "source": [
        "<a href=\"https://colab.research.google.com/github/Barragan17/Charaka/blob/master/Colab/BR_ItemSimilarity.ipynb\" target=\"_parent\"><img src=\"https://colab.research.google.com/assets/colab-badge.svg\" alt=\"Open In Colab\"/></a>"
      ]
    },
    {
      "cell_type": "code",
      "metadata": {
        "id": "iXJkWs2-42Mw"
      },
      "source": [
        "import pandas as pd\n",
        "import matplotlib.pyplot as plt\n",
        "import numpy as np\n",
        "from matplotlib import colors\n",
        "from matplotlib.ticker import PercentFormatter"
      ],
      "execution_count": 1,
      "outputs": []
    },
    {
      "cell_type": "code",
      "metadata": {
        "id": "7_TwyhFV46YZ"
      },
      "source": [
        "urlRating = '/content/drive/MyDrive/goodreads10k/ratings.csv'\n",
        "urlBooks = '/content/drive/MyDrive/goodreads10k/books.csv'\n",
        "urlTags = '/content/drive/MyDrive/goodreads10k/tags.csv'\n",
        "urlBookTags = '/content/drive/MyDrive/goodreads10k/book_tags.csv'\n",
        "urlToRead = '/content/drive/MyDrive/goodreads10k/to_read.csv'"
      ],
      "execution_count": 2,
      "outputs": []
    },
    {
      "cell_type": "code",
      "metadata": {
        "colab": {
          "base_uri": "https://localhost:8080/",
          "height": 204
        },
        "id": "bpnduTa-5iQq",
        "outputId": "1883b248-b2bd-40c0-f22c-c235775666fc"
      },
      "source": [
        "book_tags = pd.read_csv(urlBookTags)\n",
        "\n",
        "book_tags.sample(5)"
      ],
      "execution_count": 5,
      "outputs": [
        {
          "output_type": "execute_result",
          "data": {
            "text/html": [
              "<div>\n",
              "<style scoped>\n",
              "    .dataframe tbody tr th:only-of-type {\n",
              "        vertical-align: middle;\n",
              "    }\n",
              "\n",
              "    .dataframe tbody tr th {\n",
              "        vertical-align: top;\n",
              "    }\n",
              "\n",
              "    .dataframe thead th {\n",
              "        text-align: right;\n",
              "    }\n",
              "</style>\n",
              "<table border=\"1\" class=\"dataframe\">\n",
              "  <thead>\n",
              "    <tr style=\"text-align: right;\">\n",
              "      <th></th>\n",
              "      <th>goodreads_book_id</th>\n",
              "      <th>tag_id</th>\n",
              "      <th>count</th>\n",
              "    </tr>\n",
              "  </thead>\n",
              "  <tbody>\n",
              "    <tr>\n",
              "      <th>432699</th>\n",
              "      <td>208036</td>\n",
              "      <td>6410</td>\n",
              "      <td>2</td>\n",
              "    </tr>\n",
              "    <tr>\n",
              "      <th>596065</th>\n",
              "      <td>1629601</td>\n",
              "      <td>1691</td>\n",
              "      <td>23</td>\n",
              "    </tr>\n",
              "    <tr>\n",
              "      <th>787951</th>\n",
              "      <td>11366397</td>\n",
              "      <td>27314</td>\n",
              "      <td>32</td>\n",
              "    </tr>\n",
              "    <tr>\n",
              "      <th>261571</th>\n",
              "      <td>50937</td>\n",
              "      <td>20781</td>\n",
              "      <td>4</td>\n",
              "    </tr>\n",
              "    <tr>\n",
              "      <th>624310</th>\n",
              "      <td>3018539</td>\n",
              "      <td>21656</td>\n",
              "      <td>47</td>\n",
              "    </tr>\n",
              "  </tbody>\n",
              "</table>\n",
              "</div>"
            ],
            "text/plain": [
              "        goodreads_book_id  tag_id  count\n",
              "432699             208036    6410      2\n",
              "596065            1629601    1691     23\n",
              "787951           11366397   27314     32\n",
              "261571              50937   20781      4\n",
              "624310            3018539   21656     47"
            ]
          },
          "metadata": {
            "tags": []
          },
          "execution_count": 5
        }
      ]
    },
    {
      "cell_type": "code",
      "metadata": {
        "colab": {
          "base_uri": "https://localhost:8080/",
          "height": 204
        },
        "id": "hfNCtZscISzd",
        "outputId": "5d14dd59-9d5b-482d-e2da-1b62905b36d9"
      },
      "source": [
        "tags = pd.read_csv(urlTags)\n",
        "\n",
        "tags.sample(5)"
      ],
      "execution_count": 6,
      "outputs": [
        {
          "output_type": "execute_result",
          "data": {
            "text/html": [
              "<div>\n",
              "<style scoped>\n",
              "    .dataframe tbody tr th:only-of-type {\n",
              "        vertical-align: middle;\n",
              "    }\n",
              "\n",
              "    .dataframe tbody tr th {\n",
              "        vertical-align: top;\n",
              "    }\n",
              "\n",
              "    .dataframe thead th {\n",
              "        text-align: right;\n",
              "    }\n",
              "</style>\n",
              "<table border=\"1\" class=\"dataframe\">\n",
              "  <thead>\n",
              "    <tr style=\"text-align: right;\">\n",
              "      <th></th>\n",
              "      <th>tag_id</th>\n",
              "      <th>tag_name</th>\n",
              "    </tr>\n",
              "  </thead>\n",
              "  <tbody>\n",
              "    <tr>\n",
              "      <th>29052</th>\n",
              "      <td>29052</td>\n",
              "      <td>susan-abulhawa</td>\n",
              "    </tr>\n",
              "    <tr>\n",
              "      <th>31687</th>\n",
              "      <td>31687</td>\n",
              "      <td>v--c--andrews</td>\n",
              "    </tr>\n",
              "    <tr>\n",
              "      <th>570</th>\n",
              "      <td>570</td>\n",
              "      <td>2-nah</td>\n",
              "    </tr>\n",
              "    <tr>\n",
              "      <th>1367</th>\n",
              "      <td>1367</td>\n",
              "      <td>a-school-for-villains</td>\n",
              "    </tr>\n",
              "    <tr>\n",
              "      <th>20583</th>\n",
              "      <td>20583</td>\n",
              "      <td>mozart</td>\n",
              "    </tr>\n",
              "  </tbody>\n",
              "</table>\n",
              "</div>"
            ],
            "text/plain": [
              "       tag_id               tag_name\n",
              "29052   29052         susan-abulhawa\n",
              "31687   31687          v--c--andrews\n",
              "570       570                  2-nah\n",
              "1367     1367  a-school-for-villains\n",
              "20583   20583                 mozart"
            ]
          },
          "metadata": {
            "tags": []
          },
          "execution_count": 6
        }
      ]
    },
    {
      "cell_type": "code",
      "metadata": {
        "colab": {
          "base_uri": "https://localhost:8080/",
          "height": 513
        },
        "id": "leFoYNkfRvJf",
        "outputId": "f0603d93-1ed8-423d-8634-7b4f5e1a5553"
      },
      "source": [
        "books = pd.read_csv(urlBooks)\n",
        "\n",
        "books.sample(5)"
      ],
      "execution_count": 56,
      "outputs": [
        {
          "output_type": "execute_result",
          "data": {
            "text/html": [
              "<div>\n",
              "<style scoped>\n",
              "    .dataframe tbody tr th:only-of-type {\n",
              "        vertical-align: middle;\n",
              "    }\n",
              "\n",
              "    .dataframe tbody tr th {\n",
              "        vertical-align: top;\n",
              "    }\n",
              "\n",
              "    .dataframe thead th {\n",
              "        text-align: right;\n",
              "    }\n",
              "</style>\n",
              "<table border=\"1\" class=\"dataframe\">\n",
              "  <thead>\n",
              "    <tr style=\"text-align: right;\">\n",
              "      <th></th>\n",
              "      <th>id</th>\n",
              "      <th>book_id</th>\n",
              "      <th>best_book_id</th>\n",
              "      <th>work_id</th>\n",
              "      <th>books_count</th>\n",
              "      <th>isbn</th>\n",
              "      <th>isbn13</th>\n",
              "      <th>authors</th>\n",
              "      <th>original_publication_year</th>\n",
              "      <th>original_title</th>\n",
              "      <th>title</th>\n",
              "      <th>language_code</th>\n",
              "      <th>average_rating</th>\n",
              "      <th>ratings_count</th>\n",
              "      <th>work_ratings_count</th>\n",
              "      <th>work_text_reviews_count</th>\n",
              "      <th>ratings_1</th>\n",
              "      <th>ratings_2</th>\n",
              "      <th>ratings_3</th>\n",
              "      <th>ratings_4</th>\n",
              "      <th>ratings_5</th>\n",
              "      <th>image_url</th>\n",
              "      <th>small_image_url</th>\n",
              "    </tr>\n",
              "  </thead>\n",
              "  <tbody>\n",
              "    <tr>\n",
              "      <th>5526</th>\n",
              "      <td>5527</td>\n",
              "      <td>781787</td>\n",
              "      <td>781787</td>\n",
              "      <td>1189079</td>\n",
              "      <td>165</td>\n",
              "      <td>679600213</td>\n",
              "      <td>9.780680e+12</td>\n",
              "      <td>Isak Dinesen, Karen Blixen</td>\n",
              "      <td>1937.0</td>\n",
              "      <td>Out of Africa</td>\n",
              "      <td>Out of Africa</td>\n",
              "      <td>eng</td>\n",
              "      <td>3.96</td>\n",
              "      <td>21687</td>\n",
              "      <td>24185</td>\n",
              "      <td>1346</td>\n",
              "      <td>405</td>\n",
              "      <td>1353</td>\n",
              "      <td>5209</td>\n",
              "      <td>9006</td>\n",
              "      <td>8212</td>\n",
              "      <td>https://images.gr-assets.com/books/1178296503m...</td>\n",
              "      <td>https://images.gr-assets.com/books/1178296503s...</td>\n",
              "    </tr>\n",
              "    <tr>\n",
              "      <th>4441</th>\n",
              "      <td>4442</td>\n",
              "      <td>18134249</td>\n",
              "      <td>18134249</td>\n",
              "      <td>25473547</td>\n",
              "      <td>16</td>\n",
              "      <td>NaN</td>\n",
              "      <td>NaN</td>\n",
              "      <td>Rachel Van Dyken</td>\n",
              "      <td>2013.0</td>\n",
              "      <td>Ruin</td>\n",
              "      <td>Ruin (Ruin, #1)</td>\n",
              "      <td>eng</td>\n",
              "      <td>4.19</td>\n",
              "      <td>35844</td>\n",
              "      <td>36447</td>\n",
              "      <td>3787</td>\n",
              "      <td>685</td>\n",
              "      <td>1542</td>\n",
              "      <td>5362</td>\n",
              "      <td>11368</td>\n",
              "      <td>17490</td>\n",
              "      <td>https://images.gr-assets.com/books/1374686324m...</td>\n",
              "      <td>https://images.gr-assets.com/books/1374686324s...</td>\n",
              "    </tr>\n",
              "    <tr>\n",
              "      <th>7418</th>\n",
              "      <td>7419</td>\n",
              "      <td>270435</td>\n",
              "      <td>270435</td>\n",
              "      <td>124826</td>\n",
              "      <td>23</td>\n",
              "      <td>937611352</td>\n",
              "      <td>9.780938e+12</td>\n",
              "      <td>Louise L. Hay</td>\n",
              "      <td>1976.0</td>\n",
              "      <td>Heal Your Body</td>\n",
              "      <td>Heal Your Body: The Mental Causes for Physical...</td>\n",
              "      <td>en-US</td>\n",
              "      <td>4.34</td>\n",
              "      <td>11502</td>\n",
              "      <td>11714</td>\n",
              "      <td>125</td>\n",
              "      <td>139</td>\n",
              "      <td>342</td>\n",
              "      <td>1542</td>\n",
              "      <td>3059</td>\n",
              "      <td>6632</td>\n",
              "      <td>https://images.gr-assets.com/books/1404193356m...</td>\n",
              "      <td>https://images.gr-assets.com/books/1404193356s...</td>\n",
              "    </tr>\n",
              "    <tr>\n",
              "      <th>4055</th>\n",
              "      <td>4056</td>\n",
              "      <td>13573622</td>\n",
              "      <td>13573622</td>\n",
              "      <td>19154615</td>\n",
              "      <td>27</td>\n",
              "      <td>141659521X</td>\n",
              "      <td>9.781417e+12</td>\n",
              "      <td>Vince Flynn</td>\n",
              "      <td>2012.0</td>\n",
              "      <td>The Last Man</td>\n",
              "      <td>The Last Man (Mitch Rapp, #13)</td>\n",
              "      <td>en-US</td>\n",
              "      <td>4.34</td>\n",
              "      <td>21240</td>\n",
              "      <td>25127</td>\n",
              "      <td>1303</td>\n",
              "      <td>123</td>\n",
              "      <td>397</td>\n",
              "      <td>2930</td>\n",
              "      <td>9103</td>\n",
              "      <td>12574</td>\n",
              "      <td>https://s.gr-assets.com/assets/nophoto/book/11...</td>\n",
              "      <td>https://s.gr-assets.com/assets/nophoto/book/50...</td>\n",
              "    </tr>\n",
              "    <tr>\n",
              "      <th>4302</th>\n",
              "      <td>4303</td>\n",
              "      <td>831194</td>\n",
              "      <td>831194</td>\n",
              "      <td>1462398</td>\n",
              "      <td>53</td>\n",
              "      <td>60525614</td>\n",
              "      <td>9.780061e+12</td>\n",
              "      <td>Erin Hunter</td>\n",
              "      <td>2003.0</td>\n",
              "      <td>Forest of Secrets</td>\n",
              "      <td>Forest of Secrets (Warriors, #3)</td>\n",
              "      <td>eng</td>\n",
              "      <td>4.40</td>\n",
              "      <td>28913</td>\n",
              "      <td>30595</td>\n",
              "      <td>1038</td>\n",
              "      <td>162</td>\n",
              "      <td>592</td>\n",
              "      <td>3727</td>\n",
              "      <td>8350</td>\n",
              "      <td>17764</td>\n",
              "      <td>https://s.gr-assets.com/assets/nophoto/book/11...</td>\n",
              "      <td>https://s.gr-assets.com/assets/nophoto/book/50...</td>\n",
              "    </tr>\n",
              "  </tbody>\n",
              "</table>\n",
              "</div>"
            ],
            "text/plain": [
              "        id  ...                                    small_image_url\n",
              "5526  5527  ...  https://images.gr-assets.com/books/1178296503s...\n",
              "4441  4442  ...  https://images.gr-assets.com/books/1374686324s...\n",
              "7418  7419  ...  https://images.gr-assets.com/books/1404193356s...\n",
              "4055  4056  ...  https://s.gr-assets.com/assets/nophoto/book/50...\n",
              "4302  4303  ...  https://s.gr-assets.com/assets/nophoto/book/50...\n",
              "\n",
              "[5 rows x 23 columns]"
            ]
          },
          "metadata": {
            "tags": []
          },
          "execution_count": 56
        }
      ]
    },
    {
      "cell_type": "code",
      "metadata": {
        "colab": {
          "base_uri": "https://localhost:8080/",
          "height": 204
        },
        "id": "iiabWGtFHuB0",
        "outputId": "65edfedd-4b7c-4430-b3ad-e23ac9efdd84"
      },
      "source": [
        "books_title = books[['book_id', 'title']]\n",
        "books_title.head()"
      ],
      "execution_count": 57,
      "outputs": [
        {
          "output_type": "execute_result",
          "data": {
            "text/html": [
              "<div>\n",
              "<style scoped>\n",
              "    .dataframe tbody tr th:only-of-type {\n",
              "        vertical-align: middle;\n",
              "    }\n",
              "\n",
              "    .dataframe tbody tr th {\n",
              "        vertical-align: top;\n",
              "    }\n",
              "\n",
              "    .dataframe thead th {\n",
              "        text-align: right;\n",
              "    }\n",
              "</style>\n",
              "<table border=\"1\" class=\"dataframe\">\n",
              "  <thead>\n",
              "    <tr style=\"text-align: right;\">\n",
              "      <th></th>\n",
              "      <th>book_id</th>\n",
              "      <th>title</th>\n",
              "    </tr>\n",
              "  </thead>\n",
              "  <tbody>\n",
              "    <tr>\n",
              "      <th>0</th>\n",
              "      <td>2767052</td>\n",
              "      <td>The Hunger Games (The Hunger Games, #1)</td>\n",
              "    </tr>\n",
              "    <tr>\n",
              "      <th>1</th>\n",
              "      <td>3</td>\n",
              "      <td>Harry Potter and the Sorcerer's Stone (Harry P...</td>\n",
              "    </tr>\n",
              "    <tr>\n",
              "      <th>2</th>\n",
              "      <td>41865</td>\n",
              "      <td>Twilight (Twilight, #1)</td>\n",
              "    </tr>\n",
              "    <tr>\n",
              "      <th>3</th>\n",
              "      <td>2657</td>\n",
              "      <td>To Kill a Mockingbird</td>\n",
              "    </tr>\n",
              "    <tr>\n",
              "      <th>4</th>\n",
              "      <td>4671</td>\n",
              "      <td>The Great Gatsby</td>\n",
              "    </tr>\n",
              "  </tbody>\n",
              "</table>\n",
              "</div>"
            ],
            "text/plain": [
              "   book_id                                              title\n",
              "0  2767052            The Hunger Games (The Hunger Games, #1)\n",
              "1        3  Harry Potter and the Sorcerer's Stone (Harry P...\n",
              "2    41865                            Twilight (Twilight, #1)\n",
              "3     2657                              To Kill a Mockingbird\n",
              "4     4671                                   The Great Gatsby"
            ]
          },
          "metadata": {
            "tags": []
          },
          "execution_count": 57
        }
      ]
    },
    {
      "cell_type": "code",
      "metadata": {
        "colab": {
          "base_uri": "https://localhost:8080/"
        },
        "id": "w9ezoGEcR0Pg",
        "outputId": "589374d3-ecc6-4e42-917d-62558b9b5676"
      },
      "source": [
        "from sklearn.feature_extraction.text import TfidfVectorizer\n",
        "from sklearn.metrics.pairwise import linear_kernel\n",
        "from sklearn.metrics.pairwise import cosine_similarity\n",
        "\n",
        "tf = TfidfVectorizer(analyzer = 'word', ngram_range = (1,2), min_df = 0, stop_words = 'english')\n",
        "tfidf_matrix = tf.fit_transform(books_title['title'])\n",
        "cosine_sim = cosine_similarity(tfidf_matrix, tfidf_matrix)\n",
        "cosine_sim"
      ],
      "execution_count": 72,
      "outputs": [
        {
          "output_type": "execute_result",
          "data": {
            "text/plain": [
              "array([[1., 0., 0., ..., 0., 0., 0.],\n",
              "       [0., 1., 0., ..., 0., 0., 0.],\n",
              "       [0., 0., 1., ..., 0., 0., 0.],\n",
              "       ...,\n",
              "       [0., 0., 0., ..., 1., 0., 0.],\n",
              "       [0., 0., 0., ..., 0., 1., 0.],\n",
              "       [0., 0., 0., ..., 0., 0., 1.]])"
            ]
          },
          "metadata": {
            "tags": []
          },
          "execution_count": 72
        }
      ]
    },
    {
      "cell_type": "code",
      "metadata": {
        "id": "-ZhRV22qY9Z7"
      },
      "source": [
        "titles = books_title['title']\n",
        "indices = pd.Series(books_title.index, index = books_title['title']) #converting all titles into a Series\n",
        "\n",
        "#Function that gets book recommendations based on the cosine similarity score of book titles\n",
        "def book_recommendations(title, n):\n",
        "    idx = indices[title]\n",
        "    sim_scores = list(enumerate(cosine_sim[idx]))\n",
        "    sim_scores = sorted(sim_scores, key = lambda x:x[1], reverse = True)\n",
        "    sim_scores = sim_scores[1:n+1]\n",
        "    book_indices = [i[0] for i in sim_scores]\n",
        "    return titles.iloc[book_indices]"
      ],
      "execution_count": 73,
      "outputs": []
    },
    {
      "cell_type": "code",
      "metadata": {
        "colab": {
          "base_uri": "https://localhost:8080/"
        },
        "id": "wZZqo_o0ZHb1",
        "outputId": "75f8e6e8-777c-458e-ed3a-d01297d74529"
      },
      "source": [
        "book_index = 10\n",
        "n = 20\n",
        "\n",
        "print(books_title['title'][book_index])\n",
        "book_recommendations(books_title.title[book_index],n)"
      ],
      "execution_count": 74,
      "outputs": [
        {
          "output_type": "stream",
          "text": [
            "The Kite Runner\n"
          ],
          "name": "stdout"
        },
        {
          "output_type": "execute_result",
          "data": {
            "text/plain": [
              "8946                                        Once a Runner\n",
              "90                      The Maze Runner (Maze Runner, #1)\n",
              "375                      The Death Cure (Maze Runner, #3)\n",
              "945                    The Kill Order (Maze Runner, #0.5)\n",
              "258                   The Scorch Trials (Maze Runner, #2)\n",
              "6711    Ultramarathon Man: Confessions of an All-Night...\n",
              "0                 The Hunger Games (The Hunger Games, #1)\n",
              "1       Harry Potter and the Sorcerer's Stone (Harry P...\n",
              "2                                 Twilight (Twilight, #1)\n",
              "3                                   To Kill a Mockingbird\n",
              "4                                        The Great Gatsby\n",
              "5                                  The Fault in Our Stars\n",
              "6                                              The Hobbit\n",
              "7                                  The Catcher in the Rye\n",
              "8                   Angels & Demons  (Robert Langdon, #1)\n",
              "9                                     Pride and Prejudice\n",
              "11                              Divergent (Divergent, #1)\n",
              "12                                                   1984\n",
              "13                                            Animal Farm\n",
              "14                              The Diary of a Young Girl\n",
              "Name: title, dtype: object"
            ]
          },
          "metadata": {
            "tags": []
          },
          "execution_count": 74
        }
      ]
    },
    {
      "cell_type": "code",
      "metadata": {
        "colab": {
          "base_uri": "https://localhost:8080/"
        },
        "id": "BOY6t_sEZJb9",
        "outputId": "7dbe1adf-ee05-4526-a577-1f16bad2e3fb"
      },
      "source": [
        "book_recommendations('A Tale of Two Cities',5)"
      ],
      "execution_count": 76,
      "outputs": [
        {
          "output_type": "execute_result",
          "data": {
            "text/plain": [
              "5871    A Tale of Two Cities / Great Expectations\n",
              "2697                             Invisible Cities\n",
              "1699                    A Tale for the Time Being\n",
              "4754                                Winter's Tale\n",
              "6416                            The Winter's Tale\n",
              "Name: title, dtype: object"
            ]
          },
          "metadata": {
            "tags": []
          },
          "execution_count": 76
        }
      ]
    },
    {
      "cell_type": "code",
      "metadata": {
        "id": "O0WMdPK4ZR-0"
      },
      "source": [
        "result = pd.DataFrame()\n",
        "n = 3 #Recommend top n similar books\n",
        "print('Recommended books: ')\n",
        "for i in my_list['Books read']:\n",
        "    output = pd.DataFrame(book_recommendations(i,n))\n",
        "    result = result.append(output)\n",
        "result = result.drop_duplicates()\n",
        "result"
      ],
      "execution_count": null,
      "outputs": []
    }
  ]
}