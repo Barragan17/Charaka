{
  "nbformat": 4,
  "nbformat_minor": 0,
  "metadata": {
    "colab": {
      "name": "BR_goodbooks_CNN.ipynb",
      "provenance": [],
      "collapsed_sections": [],
      "mount_file_id": "1HE3_Nebul5N5qnGF_eBFBQ9ad-ba5d9E",
      "authorship_tag": "ABX9TyM6TynYjlP3eRDQfVFiDZOz",
      "include_colab_link": true
    },
    "kernelspec": {
      "name": "python3",
      "display_name": "Python 3"
    },
    "language_info": {
      "name": "python"
    },
    "accelerator": "GPU"
  },
  "cells": [
    {
      "cell_type": "markdown",
      "metadata": {
        "id": "view-in-github",
        "colab_type": "text"
      },
      "source": [
        "<a href=\"https://colab.research.google.com/github/Barragan17/Charaka/blob/master/Colab/BR_goodbooks_CNN.ipynb\" target=\"_parent\"><img src=\"https://colab.research.google.com/assets/colab-badge.svg\" alt=\"Open In Colab\"/></a>"
      ]
    },
    {
      "cell_type": "code",
      "metadata": {
        "id": "mjeC40oV87qv"
      },
      "source": [
        "import pandas as pd\n",
        "import numpy as np\n",
        "import tensorflow as tf"
      ],
      "execution_count": 1,
      "outputs": []
    },
    {
      "cell_type": "code",
      "metadata": {
        "id": "vJq5b16LK0gO"
      },
      "source": [
        "import numpy as np\n",
        "import pandas as pd\n",
        "import matplotlib.pyplot as plt\n",
        "import os\n",
        "import warnings\n",
        "\n",
        "from keras.layers import Input, Embedding, Flatten, Dot, Dense\n",
        "from keras.models import Model\n",
        "\n",
        "warnings.filterwarnings('ignore')\n",
        "%matplotlib inline"
      ],
      "execution_count": 2,
      "outputs": []
    },
    {
      "cell_type": "markdown",
      "metadata": {
        "id": "8v8jLipXIV0r"
      },
      "source": [
        "Data from https://www.kaggle.com/zygmunt/goodbooks-10k"
      ]
    },
    {
      "cell_type": "code",
      "metadata": {
        "id": "XDCn4Acj9z8S"
      },
      "source": [
        "urlRating = '/content/drive/MyDrive/goodreads10k/ratings.csv'\n",
        "urlBooks = '/content/drive/MyDrive/goodreads10k/books.csv'\n",
        "urlTags = '/content/drive/MyDrive/goodreads10k/tags.csv'\n",
        "urlBookTags = '/content/drive/MyDrive/goodreads10k/book_tags.csv'\n",
        "urlToRead = '/content/drive/MyDrive/goodreads10k/to_read.csv'"
      ],
      "execution_count": 3,
      "outputs": []
    },
    {
      "cell_type": "code",
      "metadata": {
        "colab": {
          "base_uri": "https://localhost:8080/",
          "height": 204
        },
        "id": "KhrpTu3k-a4O",
        "outputId": "831acc67-45ea-449e-f9be-e36fcd6f5f05"
      },
      "source": [
        "rating = pd.read_csv(urlRating)\n",
        "rating.sample(5)"
      ],
      "execution_count": 4,
      "outputs": [
        {
          "output_type": "execute_result",
          "data": {
            "text/html": [
              "<div>\n",
              "<style scoped>\n",
              "    .dataframe tbody tr th:only-of-type {\n",
              "        vertical-align: middle;\n",
              "    }\n",
              "\n",
              "    .dataframe tbody tr th {\n",
              "        vertical-align: top;\n",
              "    }\n",
              "\n",
              "    .dataframe thead th {\n",
              "        text-align: right;\n",
              "    }\n",
              "</style>\n",
              "<table border=\"1\" class=\"dataframe\">\n",
              "  <thead>\n",
              "    <tr style=\"text-align: right;\">\n",
              "      <th></th>\n",
              "      <th>book_id</th>\n",
              "      <th>user_id</th>\n",
              "      <th>rating</th>\n",
              "    </tr>\n",
              "  </thead>\n",
              "  <tbody>\n",
              "    <tr>\n",
              "      <th>681474</th>\n",
              "      <td>6851</td>\n",
              "      <td>52969</td>\n",
              "      <td>4</td>\n",
              "    </tr>\n",
              "    <tr>\n",
              "      <th>735285</th>\n",
              "      <td>7403</td>\n",
              "      <td>12144</td>\n",
              "      <td>3</td>\n",
              "    </tr>\n",
              "    <tr>\n",
              "      <th>40063</th>\n",
              "      <td>401</td>\n",
              "      <td>27834</td>\n",
              "      <td>4</td>\n",
              "    </tr>\n",
              "    <tr>\n",
              "      <th>411861</th>\n",
              "      <td>4125</td>\n",
              "      <td>20342</td>\n",
              "      <td>4</td>\n",
              "    </tr>\n",
              "    <tr>\n",
              "      <th>935081</th>\n",
              "      <td>9496</td>\n",
              "      <td>45298</td>\n",
              "      <td>4</td>\n",
              "    </tr>\n",
              "  </tbody>\n",
              "</table>\n",
              "</div>"
            ],
            "text/plain": [
              "        book_id  user_id  rating\n",
              "681474     6851    52969       4\n",
              "735285     7403    12144       3\n",
              "40063       401    27834       4\n",
              "411861     4125    20342       4\n",
              "935081     9496    45298       4"
            ]
          },
          "metadata": {
            "tags": []
          },
          "execution_count": 4
        }
      ]
    },
    {
      "cell_type": "code",
      "metadata": {
        "colab": {
          "base_uri": "https://localhost:8080/",
          "height": 297
        },
        "id": "uXJnegUn_Npp",
        "outputId": "ea6f67da-244d-42f2-f517-8cf78ae00ecd"
      },
      "source": [
        "rating.describe()"
      ],
      "execution_count": 5,
      "outputs": [
        {
          "output_type": "execute_result",
          "data": {
            "text/html": [
              "<div>\n",
              "<style scoped>\n",
              "    .dataframe tbody tr th:only-of-type {\n",
              "        vertical-align: middle;\n",
              "    }\n",
              "\n",
              "    .dataframe tbody tr th {\n",
              "        vertical-align: top;\n",
              "    }\n",
              "\n",
              "    .dataframe thead th {\n",
              "        text-align: right;\n",
              "    }\n",
              "</style>\n",
              "<table border=\"1\" class=\"dataframe\">\n",
              "  <thead>\n",
              "    <tr style=\"text-align: right;\">\n",
              "      <th></th>\n",
              "      <th>book_id</th>\n",
              "      <th>user_id</th>\n",
              "      <th>rating</th>\n",
              "    </tr>\n",
              "  </thead>\n",
              "  <tbody>\n",
              "    <tr>\n",
              "      <th>count</th>\n",
              "      <td>981756.000000</td>\n",
              "      <td>981756.000000</td>\n",
              "      <td>981756.000000</td>\n",
              "    </tr>\n",
              "    <tr>\n",
              "      <th>mean</th>\n",
              "      <td>4943.275636</td>\n",
              "      <td>25616.759933</td>\n",
              "      <td>3.856534</td>\n",
              "    </tr>\n",
              "    <tr>\n",
              "      <th>std</th>\n",
              "      <td>2873.207415</td>\n",
              "      <td>15228.338826</td>\n",
              "      <td>0.983941</td>\n",
              "    </tr>\n",
              "    <tr>\n",
              "      <th>min</th>\n",
              "      <td>1.000000</td>\n",
              "      <td>1.000000</td>\n",
              "      <td>1.000000</td>\n",
              "    </tr>\n",
              "    <tr>\n",
              "      <th>25%</th>\n",
              "      <td>2457.000000</td>\n",
              "      <td>12372.000000</td>\n",
              "      <td>3.000000</td>\n",
              "    </tr>\n",
              "    <tr>\n",
              "      <th>50%</th>\n",
              "      <td>4921.000000</td>\n",
              "      <td>25077.000000</td>\n",
              "      <td>4.000000</td>\n",
              "    </tr>\n",
              "    <tr>\n",
              "      <th>75%</th>\n",
              "      <td>7414.000000</td>\n",
              "      <td>38572.000000</td>\n",
              "      <td>5.000000</td>\n",
              "    </tr>\n",
              "    <tr>\n",
              "      <th>max</th>\n",
              "      <td>10000.000000</td>\n",
              "      <td>53424.000000</td>\n",
              "      <td>5.000000</td>\n",
              "    </tr>\n",
              "  </tbody>\n",
              "</table>\n",
              "</div>"
            ],
            "text/plain": [
              "             book_id        user_id         rating\n",
              "count  981756.000000  981756.000000  981756.000000\n",
              "mean     4943.275636   25616.759933       3.856534\n",
              "std      2873.207415   15228.338826       0.983941\n",
              "min         1.000000       1.000000       1.000000\n",
              "25%      2457.000000   12372.000000       3.000000\n",
              "50%      4921.000000   25077.000000       4.000000\n",
              "75%      7414.000000   38572.000000       5.000000\n",
              "max     10000.000000   53424.000000       5.000000"
            ]
          },
          "metadata": {
            "tags": []
          },
          "execution_count": 5
        }
      ]
    },
    {
      "cell_type": "code",
      "metadata": {
        "colab": {
          "base_uri": "https://localhost:8080/",
          "height": 496
        },
        "id": "LkqnhYYE_TlY",
        "outputId": "88f401a7-f00d-4927-ea5f-aedf9307805b"
      },
      "source": [
        "books = pd.read_csv(urlBooks)\n",
        "books.sample(5)"
      ],
      "execution_count": 6,
      "outputs": [
        {
          "output_type": "execute_result",
          "data": {
            "text/html": [
              "<div>\n",
              "<style scoped>\n",
              "    .dataframe tbody tr th:only-of-type {\n",
              "        vertical-align: middle;\n",
              "    }\n",
              "\n",
              "    .dataframe tbody tr th {\n",
              "        vertical-align: top;\n",
              "    }\n",
              "\n",
              "    .dataframe thead th {\n",
              "        text-align: right;\n",
              "    }\n",
              "</style>\n",
              "<table border=\"1\" class=\"dataframe\">\n",
              "  <thead>\n",
              "    <tr style=\"text-align: right;\">\n",
              "      <th></th>\n",
              "      <th>id</th>\n",
              "      <th>book_id</th>\n",
              "      <th>best_book_id</th>\n",
              "      <th>work_id</th>\n",
              "      <th>books_count</th>\n",
              "      <th>isbn</th>\n",
              "      <th>isbn13</th>\n",
              "      <th>authors</th>\n",
              "      <th>original_publication_year</th>\n",
              "      <th>original_title</th>\n",
              "      <th>title</th>\n",
              "      <th>language_code</th>\n",
              "      <th>average_rating</th>\n",
              "      <th>ratings_count</th>\n",
              "      <th>work_ratings_count</th>\n",
              "      <th>work_text_reviews_count</th>\n",
              "      <th>ratings_1</th>\n",
              "      <th>ratings_2</th>\n",
              "      <th>ratings_3</th>\n",
              "      <th>ratings_4</th>\n",
              "      <th>ratings_5</th>\n",
              "      <th>image_url</th>\n",
              "      <th>small_image_url</th>\n",
              "    </tr>\n",
              "  </thead>\n",
              "  <tbody>\n",
              "    <tr>\n",
              "      <th>8748</th>\n",
              "      <td>8749</td>\n",
              "      <td>10429025</td>\n",
              "      <td>10429025</td>\n",
              "      <td>7790670</td>\n",
              "      <td>9</td>\n",
              "      <td>61990655</td>\n",
              "      <td>9.780062e+12</td>\n",
              "      <td>Jocelyn Davies</td>\n",
              "      <td>2011.0</td>\n",
              "      <td>A Beautiful Dark</td>\n",
              "      <td>A Beautiful Dark (A Beautiful Dark, #1)</td>\n",
              "      <td>en-US</td>\n",
              "      <td>3.90</td>\n",
              "      <td>16529</td>\n",
              "      <td>16909</td>\n",
              "      <td>1320</td>\n",
              "      <td>557</td>\n",
              "      <td>1238</td>\n",
              "      <td>3819</td>\n",
              "      <td>5086</td>\n",
              "      <td>6209</td>\n",
              "      <td>https://images.gr-assets.com/books/1327916579m...</td>\n",
              "      <td>https://images.gr-assets.com/books/1327916579s...</td>\n",
              "    </tr>\n",
              "    <tr>\n",
              "      <th>4733</th>\n",
              "      <td>4734</td>\n",
              "      <td>22934446</td>\n",
              "      <td>22934446</td>\n",
              "      <td>37100610</td>\n",
              "      <td>20</td>\n",
              "      <td>62225073</td>\n",
              "      <td>9.780062e+12</td>\n",
              "      <td>Alan Cumming</td>\n",
              "      <td>2014.0</td>\n",
              "      <td>Not My Father's Son</td>\n",
              "      <td>Not My Father's Son</td>\n",
              "      <td>eng</td>\n",
              "      <td>4.00</td>\n",
              "      <td>11436</td>\n",
              "      <td>23330</td>\n",
              "      <td>3202</td>\n",
              "      <td>424</td>\n",
              "      <td>935</td>\n",
              "      <td>4437</td>\n",
              "      <td>9923</td>\n",
              "      <td>7611</td>\n",
              "      <td>https://images.gr-assets.com/books/1429218612m...</td>\n",
              "      <td>https://images.gr-assets.com/books/1429218612s...</td>\n",
              "    </tr>\n",
              "    <tr>\n",
              "      <th>833</th>\n",
              "      <td>834</td>\n",
              "      <td>4502877</td>\n",
              "      <td>4502877</td>\n",
              "      <td>4551869</td>\n",
              "      <td>1</td>\n",
              "      <td>NaN</td>\n",
              "      <td>NaN</td>\n",
              "      <td>Stephenie Meyer</td>\n",
              "      <td>2008.0</td>\n",
              "      <td>Midnight Sun (Partial Draft)</td>\n",
              "      <td>Midnight Sun (Twilight, #1.5)</td>\n",
              "      <td>eng</td>\n",
              "      <td>4.03</td>\n",
              "      <td>138118</td>\n",
              "      <td>138117</td>\n",
              "      <td>9189</td>\n",
              "      <td>6209</td>\n",
              "      <td>9089</td>\n",
              "      <td>23237</td>\n",
              "      <td>35433</td>\n",
              "      <td>64149</td>\n",
              "      <td>https://s.gr-assets.com/assets/nophoto/book/11...</td>\n",
              "      <td>https://s.gr-assets.com/assets/nophoto/book/50...</td>\n",
              "    </tr>\n",
              "    <tr>\n",
              "      <th>2779</th>\n",
              "      <td>2780</td>\n",
              "      <td>1814843</td>\n",
              "      <td>1814843</td>\n",
              "      <td>6627899</td>\n",
              "      <td>44</td>\n",
              "      <td>174166134X</td>\n",
              "      <td>9.781742e+12</td>\n",
              "      <td>John Flanagan</td>\n",
              "      <td>2006.0</td>\n",
              "      <td>The Siege of Macindaw</td>\n",
              "      <td>The Siege of Macindaw (Ranger's Apprentice, #6)</td>\n",
              "      <td>eng</td>\n",
              "      <td>4.33</td>\n",
              "      <td>37607</td>\n",
              "      <td>41857</td>\n",
              "      <td>1195</td>\n",
              "      <td>223</td>\n",
              "      <td>721</td>\n",
              "      <td>5474</td>\n",
              "      <td>13990</td>\n",
              "      <td>21449</td>\n",
              "      <td>https://images.gr-assets.com/books/1327445821m...</td>\n",
              "      <td>https://images.gr-assets.com/books/1327445821s...</td>\n",
              "    </tr>\n",
              "    <tr>\n",
              "      <th>1039</th>\n",
              "      <td>1040</td>\n",
              "      <td>15790837</td>\n",
              "      <td>15790837</td>\n",
              "      <td>21512389</td>\n",
              "      <td>32</td>\n",
              "      <td>316154695</td>\n",
              "      <td>9.780316e+12</td>\n",
              "      <td>David Sedaris</td>\n",
              "      <td>2013.0</td>\n",
              "      <td>Lets Explore Diabetes with Owls</td>\n",
              "      <td>Let's Explore Diabetes with Owls</td>\n",
              "      <td>eng</td>\n",
              "      <td>3.80</td>\n",
              "      <td>81616</td>\n",
              "      <td>90335</td>\n",
              "      <td>7959</td>\n",
              "      <td>1942</td>\n",
              "      <td>5571</td>\n",
              "      <td>23634</td>\n",
              "      <td>36656</td>\n",
              "      <td>22532</td>\n",
              "      <td>https://images.gr-assets.com/books/1359704028m...</td>\n",
              "      <td>https://images.gr-assets.com/books/1359704028s...</td>\n",
              "    </tr>\n",
              "  </tbody>\n",
              "</table>\n",
              "</div>"
            ],
            "text/plain": [
              "        id  ...                                    small_image_url\n",
              "8748  8749  ...  https://images.gr-assets.com/books/1327916579s...\n",
              "4733  4734  ...  https://images.gr-assets.com/books/1429218612s...\n",
              "833    834  ...  https://s.gr-assets.com/assets/nophoto/book/50...\n",
              "2779  2780  ...  https://images.gr-assets.com/books/1327445821s...\n",
              "1039  1040  ...  https://images.gr-assets.com/books/1359704028s...\n",
              "\n",
              "[5 rows x 23 columns]"
            ]
          },
          "metadata": {
            "tags": []
          },
          "execution_count": 6
        }
      ]
    },
    {
      "cell_type": "code",
      "metadata": {
        "colab": {
          "base_uri": "https://localhost:8080/",
          "height": 864
        },
        "id": "rdyOqdqr_Zu3",
        "outputId": "7dab6404-473a-4697-a7f3-554e9d22182b"
      },
      "source": [
        "books.drop(['isbn13', 'ratings_count', 'best_book_id', 'work_id', 'book_id'], axis=1)"
      ],
      "execution_count": 7,
      "outputs": [
        {
          "output_type": "execute_result",
          "data": {
            "text/html": [
              "<div>\n",
              "<style scoped>\n",
              "    .dataframe tbody tr th:only-of-type {\n",
              "        vertical-align: middle;\n",
              "    }\n",
              "\n",
              "    .dataframe tbody tr th {\n",
              "        vertical-align: top;\n",
              "    }\n",
              "\n",
              "    .dataframe thead th {\n",
              "        text-align: right;\n",
              "    }\n",
              "</style>\n",
              "<table border=\"1\" class=\"dataframe\">\n",
              "  <thead>\n",
              "    <tr style=\"text-align: right;\">\n",
              "      <th></th>\n",
              "      <th>id</th>\n",
              "      <th>books_count</th>\n",
              "      <th>isbn</th>\n",
              "      <th>authors</th>\n",
              "      <th>original_publication_year</th>\n",
              "      <th>original_title</th>\n",
              "      <th>title</th>\n",
              "      <th>language_code</th>\n",
              "      <th>average_rating</th>\n",
              "      <th>work_ratings_count</th>\n",
              "      <th>work_text_reviews_count</th>\n",
              "      <th>ratings_1</th>\n",
              "      <th>ratings_2</th>\n",
              "      <th>ratings_3</th>\n",
              "      <th>ratings_4</th>\n",
              "      <th>ratings_5</th>\n",
              "      <th>image_url</th>\n",
              "      <th>small_image_url</th>\n",
              "    </tr>\n",
              "  </thead>\n",
              "  <tbody>\n",
              "    <tr>\n",
              "      <th>0</th>\n",
              "      <td>1</td>\n",
              "      <td>272</td>\n",
              "      <td>439023483</td>\n",
              "      <td>Suzanne Collins</td>\n",
              "      <td>2008.0</td>\n",
              "      <td>The Hunger Games</td>\n",
              "      <td>The Hunger Games (The Hunger Games, #1)</td>\n",
              "      <td>eng</td>\n",
              "      <td>4.34</td>\n",
              "      <td>4942365</td>\n",
              "      <td>155254</td>\n",
              "      <td>66715</td>\n",
              "      <td>127936</td>\n",
              "      <td>560092</td>\n",
              "      <td>1481305</td>\n",
              "      <td>2706317</td>\n",
              "      <td>https://images.gr-assets.com/books/1447303603m...</td>\n",
              "      <td>https://images.gr-assets.com/books/1447303603s...</td>\n",
              "    </tr>\n",
              "    <tr>\n",
              "      <th>1</th>\n",
              "      <td>2</td>\n",
              "      <td>491</td>\n",
              "      <td>439554934</td>\n",
              "      <td>J.K. Rowling, Mary GrandPré</td>\n",
              "      <td>1997.0</td>\n",
              "      <td>Harry Potter and the Philosopher's Stone</td>\n",
              "      <td>Harry Potter and the Sorcerer's Stone (Harry P...</td>\n",
              "      <td>eng</td>\n",
              "      <td>4.44</td>\n",
              "      <td>4800065</td>\n",
              "      <td>75867</td>\n",
              "      <td>75504</td>\n",
              "      <td>101676</td>\n",
              "      <td>455024</td>\n",
              "      <td>1156318</td>\n",
              "      <td>3011543</td>\n",
              "      <td>https://images.gr-assets.com/books/1474154022m...</td>\n",
              "      <td>https://images.gr-assets.com/books/1474154022s...</td>\n",
              "    </tr>\n",
              "    <tr>\n",
              "      <th>2</th>\n",
              "      <td>3</td>\n",
              "      <td>226</td>\n",
              "      <td>316015849</td>\n",
              "      <td>Stephenie Meyer</td>\n",
              "      <td>2005.0</td>\n",
              "      <td>Twilight</td>\n",
              "      <td>Twilight (Twilight, #1)</td>\n",
              "      <td>en-US</td>\n",
              "      <td>3.57</td>\n",
              "      <td>3916824</td>\n",
              "      <td>95009</td>\n",
              "      <td>456191</td>\n",
              "      <td>436802</td>\n",
              "      <td>793319</td>\n",
              "      <td>875073</td>\n",
              "      <td>1355439</td>\n",
              "      <td>https://images.gr-assets.com/books/1361039443m...</td>\n",
              "      <td>https://images.gr-assets.com/books/1361039443s...</td>\n",
              "    </tr>\n",
              "    <tr>\n",
              "      <th>3</th>\n",
              "      <td>4</td>\n",
              "      <td>487</td>\n",
              "      <td>61120081</td>\n",
              "      <td>Harper Lee</td>\n",
              "      <td>1960.0</td>\n",
              "      <td>To Kill a Mockingbird</td>\n",
              "      <td>To Kill a Mockingbird</td>\n",
              "      <td>eng</td>\n",
              "      <td>4.25</td>\n",
              "      <td>3340896</td>\n",
              "      <td>72586</td>\n",
              "      <td>60427</td>\n",
              "      <td>117415</td>\n",
              "      <td>446835</td>\n",
              "      <td>1001952</td>\n",
              "      <td>1714267</td>\n",
              "      <td>https://images.gr-assets.com/books/1361975680m...</td>\n",
              "      <td>https://images.gr-assets.com/books/1361975680s...</td>\n",
              "    </tr>\n",
              "    <tr>\n",
              "      <th>4</th>\n",
              "      <td>5</td>\n",
              "      <td>1356</td>\n",
              "      <td>743273567</td>\n",
              "      <td>F. Scott Fitzgerald</td>\n",
              "      <td>1925.0</td>\n",
              "      <td>The Great Gatsby</td>\n",
              "      <td>The Great Gatsby</td>\n",
              "      <td>eng</td>\n",
              "      <td>3.89</td>\n",
              "      <td>2773745</td>\n",
              "      <td>51992</td>\n",
              "      <td>86236</td>\n",
              "      <td>197621</td>\n",
              "      <td>606158</td>\n",
              "      <td>936012</td>\n",
              "      <td>947718</td>\n",
              "      <td>https://images.gr-assets.com/books/1490528560m...</td>\n",
              "      <td>https://images.gr-assets.com/books/1490528560s...</td>\n",
              "    </tr>\n",
              "    <tr>\n",
              "      <th>...</th>\n",
              "      <td>...</td>\n",
              "      <td>...</td>\n",
              "      <td>...</td>\n",
              "      <td>...</td>\n",
              "      <td>...</td>\n",
              "      <td>...</td>\n",
              "      <td>...</td>\n",
              "      <td>...</td>\n",
              "      <td>...</td>\n",
              "      <td>...</td>\n",
              "      <td>...</td>\n",
              "      <td>...</td>\n",
              "      <td>...</td>\n",
              "      <td>...</td>\n",
              "      <td>...</td>\n",
              "      <td>...</td>\n",
              "      <td>...</td>\n",
              "      <td>...</td>\n",
              "    </tr>\n",
              "    <tr>\n",
              "      <th>9995</th>\n",
              "      <td>9996</td>\n",
              "      <td>19</td>\n",
              "      <td>441019455</td>\n",
              "      <td>Ilona Andrews</td>\n",
              "      <td>2010.0</td>\n",
              "      <td>Bayou Moon</td>\n",
              "      <td>Bayou Moon (The Edge, #2)</td>\n",
              "      <td>eng</td>\n",
              "      <td>4.09</td>\n",
              "      <td>18856</td>\n",
              "      <td>1180</td>\n",
              "      <td>105</td>\n",
              "      <td>575</td>\n",
              "      <td>3538</td>\n",
              "      <td>7860</td>\n",
              "      <td>6778</td>\n",
              "      <td>https://images.gr-assets.com/books/1307445460m...</td>\n",
              "      <td>https://images.gr-assets.com/books/1307445460s...</td>\n",
              "    </tr>\n",
              "    <tr>\n",
              "      <th>9996</th>\n",
              "      <td>9997</td>\n",
              "      <td>19</td>\n",
              "      <td>067973371X</td>\n",
              "      <td>Robert A. Caro</td>\n",
              "      <td>1990.0</td>\n",
              "      <td>Means of Ascent</td>\n",
              "      <td>Means of Ascent (The Years of Lyndon Johnson, #2)</td>\n",
              "      <td>eng</td>\n",
              "      <td>4.25</td>\n",
              "      <td>12952</td>\n",
              "      <td>395</td>\n",
              "      <td>303</td>\n",
              "      <td>551</td>\n",
              "      <td>1737</td>\n",
              "      <td>3389</td>\n",
              "      <td>6972</td>\n",
              "      <td>https://s.gr-assets.com/assets/nophoto/book/11...</td>\n",
              "      <td>https://s.gr-assets.com/assets/nophoto/book/50...</td>\n",
              "    </tr>\n",
              "    <tr>\n",
              "      <th>9997</th>\n",
              "      <td>9998</td>\n",
              "      <td>60</td>\n",
              "      <td>039330762X</td>\n",
              "      <td>Patrick O'Brian</td>\n",
              "      <td>1977.0</td>\n",
              "      <td>The Mauritius Command</td>\n",
              "      <td>The Mauritius Command</td>\n",
              "      <td>eng</td>\n",
              "      <td>4.35</td>\n",
              "      <td>10733</td>\n",
              "      <td>374</td>\n",
              "      <td>11</td>\n",
              "      <td>111</td>\n",
              "      <td>1191</td>\n",
              "      <td>4240</td>\n",
              "      <td>5180</td>\n",
              "      <td>https://images.gr-assets.com/books/1455373531m...</td>\n",
              "      <td>https://images.gr-assets.com/books/1455373531s...</td>\n",
              "    </tr>\n",
              "    <tr>\n",
              "      <th>9998</th>\n",
              "      <td>9999</td>\n",
              "      <td>7</td>\n",
              "      <td>61711527</td>\n",
              "      <td>Peggy Orenstein</td>\n",
              "      <td>2011.0</td>\n",
              "      <td>Cinderella Ate My Daughter: Dispatches from th...</td>\n",
              "      <td>Cinderella Ate My Daughter: Dispatches from th...</td>\n",
              "      <td>eng</td>\n",
              "      <td>3.65</td>\n",
              "      <td>11994</td>\n",
              "      <td>1988</td>\n",
              "      <td>275</td>\n",
              "      <td>1002</td>\n",
              "      <td>3765</td>\n",
              "      <td>4577</td>\n",
              "      <td>2375</td>\n",
              "      <td>https://images.gr-assets.com/books/1279214118m...</td>\n",
              "      <td>https://images.gr-assets.com/books/1279214118s...</td>\n",
              "    </tr>\n",
              "    <tr>\n",
              "      <th>9999</th>\n",
              "      <td>10000</td>\n",
              "      <td>31</td>\n",
              "      <td>375700455</td>\n",
              "      <td>John Keegan</td>\n",
              "      <td>1998.0</td>\n",
              "      <td>The First World War</td>\n",
              "      <td>The First World War</td>\n",
              "      <td>NaN</td>\n",
              "      <td>4.00</td>\n",
              "      <td>9700</td>\n",
              "      <td>364</td>\n",
              "      <td>117</td>\n",
              "      <td>345</td>\n",
              "      <td>2031</td>\n",
              "      <td>4138</td>\n",
              "      <td>3069</td>\n",
              "      <td>https://images.gr-assets.com/books/1403194704m...</td>\n",
              "      <td>https://images.gr-assets.com/books/1403194704s...</td>\n",
              "    </tr>\n",
              "  </tbody>\n",
              "</table>\n",
              "<p>10000 rows × 18 columns</p>\n",
              "</div>"
            ],
            "text/plain": [
              "         id  ...                                    small_image_url\n",
              "0         1  ...  https://images.gr-assets.com/books/1447303603s...\n",
              "1         2  ...  https://images.gr-assets.com/books/1474154022s...\n",
              "2         3  ...  https://images.gr-assets.com/books/1361039443s...\n",
              "3         4  ...  https://images.gr-assets.com/books/1361975680s...\n",
              "4         5  ...  https://images.gr-assets.com/books/1490528560s...\n",
              "...     ...  ...                                                ...\n",
              "9995   9996  ...  https://images.gr-assets.com/books/1307445460s...\n",
              "9996   9997  ...  https://s.gr-assets.com/assets/nophoto/book/50...\n",
              "9997   9998  ...  https://images.gr-assets.com/books/1455373531s...\n",
              "9998   9999  ...  https://images.gr-assets.com/books/1279214118s...\n",
              "9999  10000  ...  https://images.gr-assets.com/books/1403194704s...\n",
              "\n",
              "[10000 rows x 18 columns]"
            ]
          },
          "metadata": {
            "tags": []
          },
          "execution_count": 7
        }
      ]
    },
    {
      "cell_type": "code",
      "metadata": {
        "id": "ax6jU94qHhYF"
      },
      "source": [
        "from sklearn.model_selection import train_test_split\n",
        "train, test = train_test_split(rating, test_size=0.2, random_state=42)"
      ],
      "execution_count": 8,
      "outputs": []
    },
    {
      "cell_type": "code",
      "metadata": {
        "id": "ukFR5wQ6K6v7"
      },
      "source": [
        "n_users = len(rating.user_id.unique())\n",
        "n_books = len(rating.book_id.unique())"
      ],
      "execution_count": 9,
      "outputs": []
    },
    {
      "cell_type": "code",
      "metadata": {
        "id": "Y1153syrKZFF"
      },
      "source": [
        "from keras.layers import Concatenate\n",
        "\n",
        "# creating book embedding path\n",
        "book_input = Input(shape=[1], name=\"Book-Input\")\n",
        "book_embedding = Embedding(n_books+1, 5, name=\"Book-Embedding\")(book_input)\n",
        "book_vec = Flatten(name=\"Flatten-Books\")(book_embedding)\n",
        "\n",
        "# creating user embedding path\n",
        "user_input = Input(shape=[1], name=\"User-Input\")\n",
        "user_embedding = Embedding(n_users+1, 5, name=\"User-Embedding\")(user_input)\n",
        "user_vec = Flatten(name=\"Flatten-Users\")(user_embedding)\n",
        "\n",
        "# concatenate features\n",
        "conc = Concatenate()([book_vec, user_vec])\n",
        "\n",
        "# add fully-connected-layers\n",
        "fc1 = Dense(128, activation='relu')(conc)\n",
        "fc2 = Dense(32, activation='relu')(fc1)\n",
        "out = Dense(1)(fc2)\n",
        "\n",
        "# Create model and compile it\n",
        "model2 = Model([user_input, book_input], out)\n",
        "model2.compile('adam', 'mean_squared_error')"
      ],
      "execution_count": 10,
      "outputs": []
    },
    {
      "cell_type": "code",
      "metadata": {
        "colab": {
          "base_uri": "https://localhost:8080/",
          "height": 466
        },
        "id": "VghGhX9HKuja",
        "outputId": "250ebaa5-fb96-456d-b1b3-3d64970d5112"
      },
      "source": [
        "history = model2.fit([train.user_id, train.book_id], train.rating, epochs=5, verbose=1)\n",
        "plt.plot(history.history['loss'])\n",
        "plt.xlabel(\"Epochs\")\n",
        "plt.ylabel(\"Training Error\")"
      ],
      "execution_count": 11,
      "outputs": [
        {
          "output_type": "stream",
          "text": [
            "Epoch 1/5\n",
            "24544/24544 [==============================] - 128s 5ms/step - loss: 1.0149\n",
            "Epoch 2/5\n",
            "24544/24544 [==============================] - 112s 5ms/step - loss: 0.6812\n",
            "Epoch 3/5\n",
            "24544/24544 [==============================] - 112s 5ms/step - loss: 0.6505\n",
            "Epoch 4/5\n",
            "24544/24544 [==============================] - 112s 5ms/step - loss: 0.6244\n",
            "Epoch 5/5\n",
            "24544/24544 [==============================] - 111s 5ms/step - loss: 0.6037\n"
          ],
          "name": "stdout"
        },
        {
          "output_type": "execute_result",
          "data": {
            "text/plain": [
              "Text(0, 0.5, 'Training Error')"
            ]
          },
          "metadata": {
            "tags": []
          },
          "execution_count": 11
        },
        {
          "output_type": "display_data",
          "data": {
            "image/png": "[encoded data removed]",
            "text/plain": [
              "<Figure size 432x288 with 1 Axes>"
            ]
          },
          "metadata": {
            "tags": [],
            "needs_background": "light"
          }
        }
      ]
    },
    {
      "cell_type": "code",
      "metadata": {
        "colab": {
          "base_uri": "https://localhost:8080/"
        },
        "id": "ESb0r1eRLgd7",
        "outputId": "33c14129-f032-40f8-95b7-6969e0a72136"
      },
      "source": [
        "model2.evaluate([test.user_id, test.book_id], test.rating)"
      ],
      "execution_count": 12,
      "outputs": [
        {
          "output_type": "stream",
          "text": [
            "6136/6136 [==============================] - 9s 1ms/step - loss: 0.7153\n"
          ],
          "name": "stdout"
        },
        {
          "output_type": "execute_result",
          "data": {
            "text/plain": [
              "0.7152819633483887"
            ]
          },
          "metadata": {
            "tags": []
          },
          "execution_count": 12
        }
      ]
    },
    {
      "cell_type": "code",
      "metadata": {
        "id": "F7QxSnBFOjxa"
      },
      "source": [
        "predictions = model2.predict([test.user_id.head(10), test.book_id.head(10)])#input user_id and book_id"
      ],
      "execution_count": 13,
      "outputs": []
    },
    {
      "cell_type": "code",
      "metadata": {
        "colab": {
          "base_uri": "https://localhost:8080/"
        },
        "id": "PoXeu9UqOt76",
        "outputId": "f20a8ebc-158a-40a1-a4f0-870d1e378688"
      },
      "source": [
        "[print(predictions[i], test.rating.iloc[i]) for i in range(0,10)] #output prediction_score for a certain book with their actual_score"
      ],
      "execution_count": 14,
      "outputs": [
        {
          "output_type": "stream",
          "text": [
            "[5.098597] 5\n",
            "[3.9357991] 4\n",
            "[3.5184174] 3\n",
            "[4.0737677] 5\n",
            "[3.3394532] 3\n",
            "[3.8567367] 3\n",
            "[3.866331] 3\n",
            "[4.832642] 4\n",
            "[4.301938] 3\n",
            "[4.0287013] 5\n"
          ],
          "name": "stdout"
        },
        {
          "output_type": "execute_result",
          "data": {
            "text/plain": [
              "[None, None, None, None, None, None, None, None, None, None]"
            ]
          },
          "metadata": {
            "tags": []
          },
          "execution_count": 14
        }
      ]
    },
    {
      "cell_type": "code",
      "metadata": {
        "colab": {
          "base_uri": "https://localhost:8080/"
        },
        "id": "NICCXzISOvTm",
        "outputId": "705749c8-81b5-4aa3-b5a6-420f721f1215"
      },
      "source": [
        "book_data = np.array(list(set(rating.book_id)))\n",
        "book_data #every book_id on rating dataset. 981756 because one book_id can be rated multiple times"
      ],
      "execution_count": 15,
      "outputs": [
        {
          "output_type": "execute_result",
          "data": {
            "text/plain": [
              "array([    1,     2,     3, ...,  9998,  9999, 10000])"
            ]
          },
          "metadata": {
            "tags": []
          },
          "execution_count": 15
        }
      ]
    },
    {
      "cell_type": "code",
      "metadata": {
        "colab": {
          "base_uri": "https://localhost:8080/"
        },
        "id": "jDpic-HoO9fM",
        "outputId": "c9dcc9f9-24c8-44a1-ad6b-19355ac5a2eb"
      },
      "source": [
        "user = np.array([100 for i in range(len(book_data))]) #user_id we want to predict\n",
        "user"
      ],
      "execution_count": 40,
      "outputs": [
        {
          "output_type": "execute_result",
          "data": {
            "text/plain": [
              "array([100, 100, 100, ..., 100, 100, 100])"
            ]
          },
          "metadata": {
            "tags": []
          },
          "execution_count": 40
        }
      ]
    },
    {
      "cell_type": "code",
      "metadata": {
        "colab": {
          "base_uri": "https://localhost:8080/"
        },
        "id": "I4u5RZj9PFie",
        "outputId": "5a7b8504-46e5-4832-db90-762495a4a6ff"
      },
      "source": [
        "predictions = model2.predict([user, book_data])\n",
        "\n",
        "predictions = np.array([a[0] for a in predictions]) #score for every book_id on rating dataset\n",
        "\n",
        "recommended_book_ids = (-predictions).argsort()[:5]\n",
        "\n",
        "recommended_book_ids"
      ],
      "execution_count": 41,
      "outputs": [
        {
          "output_type": "execute_result",
          "data": {
            "text/plain": [
              "array([6919, 7946, 8945, 9075, 6360])"
            ]
          },
          "metadata": {
            "tags": []
          },
          "execution_count": 41
        }
      ]
    },
    {
      "cell_type": "code",
      "metadata": {
        "colab": {
          "base_uri": "https://localhost:8080/"
        },
        "id": "ebdlRZIDEnr_",
        "outputId": "ab42b638-feae-4d57-d053-a4f6efa23f61"
      },
      "source": [
        "len(rating.book_id)"
      ],
      "execution_count": 42,
      "outputs": [
        {
          "output_type": "execute_result",
          "data": {
            "text/plain": [
              "981756"
            ]
          },
          "metadata": {
            "tags": []
          },
          "execution_count": 42
        }
      ]
    },
    {
      "cell_type": "code",
      "metadata": {
        "colab": {
          "base_uri": "https://localhost:8080/"
        },
        "id": "-Hm8vei4GbDV",
        "outputId": "1c5ea41d-2958-4744-b312-251e9abd6673"
      },
      "source": [
        "predictions"
      ],
      "execution_count": 43,
      "outputs": [
        {
          "output_type": "execute_result",
          "data": {
            "text/plain": [
              "array([4.355337 , 4.322398 , 2.6456285, ..., 4.3108125, 3.8770962,\n",
              "       4.22928  ], dtype=float32)"
            ]
          },
          "metadata": {
            "tags": []
          },
          "execution_count": 43
        }
      ]
    },
    {
      "cell_type": "code",
      "metadata": {
        "colab": {
          "base_uri": "https://localhost:8080/"
        },
        "id": "8wbgugUPPL3a",
        "outputId": "78ef2458-0e33-4bd1-fee7-23dde41bd476"
      },
      "source": [
        "predictions[recommended_book_ids]"
      ],
      "execution_count": 44,
      "outputs": [
        {
          "output_type": "execute_result",
          "data": {
            "text/plain": [
              "array([4.8507266, 4.81052  , 4.790158 , 4.78794  , 4.78262  ],\n",
              "      dtype=float32)"
            ]
          },
          "metadata": {
            "tags": []
          },
          "execution_count": 44
        }
      ]
    },
    {
      "cell_type": "code",
      "metadata": {
        "colab": {
          "base_uri": "https://localhost:8080/",
          "height": 428
        },
        "id": "g78DiUcNPT7J",
        "outputId": "c089b09d-cb9f-4492-e77a-cc488a9a7e20"
      },
      "source": [
        "books[books['id'].isin(recommended_book_ids)]"
      ],
      "execution_count": 45,
      "outputs": [
        {
          "output_type": "execute_result",
          "data": {
            "text/html": [
              "<div>\n",
              "<style scoped>\n",
              "    .dataframe tbody tr th:only-of-type {\n",
              "        vertical-align: middle;\n",
              "    }\n",
              "\n",
              "    .dataframe tbody tr th {\n",
              "        vertical-align: top;\n",
              "    }\n",
              "\n",
              "    .dataframe thead th {\n",
              "        text-align: right;\n",
              "    }\n",
              "</style>\n",
              "<table border=\"1\" class=\"dataframe\">\n",
              "  <thead>\n",
              "    <tr style=\"text-align: right;\">\n",
              "      <th></th>\n",
              "      <th>id</th>\n",
              "      <th>book_id</th>\n",
              "      <th>best_book_id</th>\n",
              "      <th>work_id</th>\n",
              "      <th>books_count</th>\n",
              "      <th>isbn</th>\n",
              "      <th>isbn13</th>\n",
              "      <th>authors</th>\n",
              "      <th>original_publication_year</th>\n",
              "      <th>original_title</th>\n",
              "      <th>title</th>\n",
              "      <th>language_code</th>\n",
              "      <th>average_rating</th>\n",
              "      <th>ratings_count</th>\n",
              "      <th>work_ratings_count</th>\n",
              "      <th>work_text_reviews_count</th>\n",
              "      <th>ratings_1</th>\n",
              "      <th>ratings_2</th>\n",
              "      <th>ratings_3</th>\n",
              "      <th>ratings_4</th>\n",
              "      <th>ratings_5</th>\n",
              "      <th>image_url</th>\n",
              "      <th>small_image_url</th>\n",
              "    </tr>\n",
              "  </thead>\n",
              "  <tbody>\n",
              "    <tr>\n",
              "      <th>6359</th>\n",
              "      <td>6360</td>\n",
              "      <td>675905</td>\n",
              "      <td>675905</td>\n",
              "      <td>661908</td>\n",
              "      <td>10</td>\n",
              "      <td>312997191</td>\n",
              "      <td>9.780313e+12</td>\n",
              "      <td>Elin Hilderbrand</td>\n",
              "      <td>2003.0</td>\n",
              "      <td>Summer People</td>\n",
              "      <td>Summer People</td>\n",
              "      <td>eng</td>\n",
              "      <td>3.93</td>\n",
              "      <td>14369</td>\n",
              "      <td>15792</td>\n",
              "      <td>623</td>\n",
              "      <td>126</td>\n",
              "      <td>649</td>\n",
              "      <td>4124</td>\n",
              "      <td>6239</td>\n",
              "      <td>4654</td>\n",
              "      <td>https://images.gr-assets.com/books/1317063942m...</td>\n",
              "      <td>https://images.gr-assets.com/books/1317063942s...</td>\n",
              "    </tr>\n",
              "    <tr>\n",
              "      <th>6918</th>\n",
              "      <td>6919</td>\n",
              "      <td>55354</td>\n",
              "      <td>55354</td>\n",
              "      <td>893440</td>\n",
              "      <td>22</td>\n",
              "      <td>786887583</td>\n",
              "      <td>9.780787e+12</td>\n",
              "      <td>George Carlin</td>\n",
              "      <td>2001.0</td>\n",
              "      <td>Napalm &amp; Silly Putty</td>\n",
              "      <td>Napalm &amp; Silly Putty</td>\n",
              "      <td>eng</td>\n",
              "      <td>4.12</td>\n",
              "      <td>12798</td>\n",
              "      <td>13437</td>\n",
              "      <td>316</td>\n",
              "      <td>141</td>\n",
              "      <td>465</td>\n",
              "      <td>2561</td>\n",
              "      <td>4724</td>\n",
              "      <td>5546</td>\n",
              "      <td>https://s.gr-assets.com/assets/nophoto/book/11...</td>\n",
              "      <td>https://s.gr-assets.com/assets/nophoto/book/50...</td>\n",
              "    </tr>\n",
              "    <tr>\n",
              "      <th>7945</th>\n",
              "      <td>7946</td>\n",
              "      <td>39926</td>\n",
              "      <td>39926</td>\n",
              "      <td>836516</td>\n",
              "      <td>43</td>\n",
              "      <td>60512180</td>\n",
              "      <td>9.780061e+12</td>\n",
              "      <td>Naomi Wolf</td>\n",
              "      <td>1990.0</td>\n",
              "      <td>The Beauty Myth: How Images of Beauty Are Used...</td>\n",
              "      <td>The Beauty Myth</td>\n",
              "      <td>eng</td>\n",
              "      <td>3.89</td>\n",
              "      <td>13037</td>\n",
              "      <td>14266</td>\n",
              "      <td>790</td>\n",
              "      <td>234</td>\n",
              "      <td>790</td>\n",
              "      <td>3493</td>\n",
              "      <td>5552</td>\n",
              "      <td>4197</td>\n",
              "      <td>https://s.gr-assets.com/assets/nophoto/book/11...</td>\n",
              "      <td>https://s.gr-assets.com/assets/nophoto/book/50...</td>\n",
              "    </tr>\n",
              "    <tr>\n",
              "      <th>8944</th>\n",
              "      <td>8945</td>\n",
              "      <td>32529</td>\n",
              "      <td>32529</td>\n",
              "      <td>3214115</td>\n",
              "      <td>40</td>\n",
              "      <td>752848267</td>\n",
              "      <td>9.780753e+12</td>\n",
              "      <td>Lisa Gardner</td>\n",
              "      <td>2001.0</td>\n",
              "      <td>The Next Accident</td>\n",
              "      <td>The Next Accident (Quincy &amp; Rainie, #3)</td>\n",
              "      <td>en-US</td>\n",
              "      <td>4.16</td>\n",
              "      <td>11261</td>\n",
              "      <td>13328</td>\n",
              "      <td>513</td>\n",
              "      <td>49</td>\n",
              "      <td>231</td>\n",
              "      <td>2323</td>\n",
              "      <td>5612</td>\n",
              "      <td>5113</td>\n",
              "      <td>https://images.gr-assets.com/books/1348816896m...</td>\n",
              "      <td>https://images.gr-assets.com/books/1348816896s...</td>\n",
              "    </tr>\n",
              "    <tr>\n",
              "      <th>9074</th>\n",
              "      <td>9075</td>\n",
              "      <td>7199667</td>\n",
              "      <td>7199667</td>\n",
              "      <td>7867989</td>\n",
              "      <td>7</td>\n",
              "      <td>1599904780</td>\n",
              "      <td>9.781600e+12</td>\n",
              "      <td>Jessica Day George</td>\n",
              "      <td>2010.0</td>\n",
              "      <td>Princess of Glass</td>\n",
              "      <td>Princess of Glass (The Princesses of Westfalin...</td>\n",
              "      <td>eng</td>\n",
              "      <td>4.03</td>\n",
              "      <td>17052</td>\n",
              "      <td>17729</td>\n",
              "      <td>1669</td>\n",
              "      <td>145</td>\n",
              "      <td>694</td>\n",
              "      <td>3966</td>\n",
              "      <td>6525</td>\n",
              "      <td>6399</td>\n",
              "      <td>https://images.gr-assets.com/books/1397878579m...</td>\n",
              "      <td>https://images.gr-assets.com/books/1397878579s...</td>\n",
              "    </tr>\n",
              "  </tbody>\n",
              "</table>\n",
              "</div>"
            ],
            "text/plain": [
              "        id  ...                                    small_image_url\n",
              "6359  6360  ...  https://images.gr-assets.com/books/1317063942s...\n",
              "6918  6919  ...  https://s.gr-assets.com/assets/nophoto/book/50...\n",
              "7945  7946  ...  https://s.gr-assets.com/assets/nophoto/book/50...\n",
              "8944  8945  ...  https://images.gr-assets.com/books/1348816896s...\n",
              "9074  9075  ...  https://images.gr-assets.com/books/1397878579s...\n",
              "\n",
              "[5 rows x 23 columns]"
            ]
          },
          "metadata": {
            "tags": []
          },
          "execution_count": 45
        }
      ]
    },
    {
      "cell_type": "code",
      "metadata": {
        "id": "JTOoE1eTH9Fl"
      },
      "source": [
        ""
      ],
      "execution_count": null,
      "outputs": []
    }
  ]
}