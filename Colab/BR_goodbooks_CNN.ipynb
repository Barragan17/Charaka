{
  "nbformat": 4,
  "nbformat_minor": 0,
  "metadata": {
    "colab": {
      "name": "BR_goodbooks_CNN.ipynb",
      "provenance": [],
      "collapsed_sections": [],
      "mount_file_id": "1HE3_Nebul5N5qnGF_eBFBQ9ad-ba5d9E",
      "authorship_tag": "ABX9TyMQcgqDZcfBei5CD7GSQ8Qj",
      "include_colab_link": true
    },
    "kernelspec": {
      "name": "python3",
      "display_name": "Python 3"
    },
    "language_info": {
      "name": "python"
    },
    "accelerator": "GPU"
  },
  "cells": [
    {
      "cell_type": "markdown",
      "metadata": {
        "id": "view-in-github",
        "colab_type": "text"
      },
      "source": [
        "<a href=\"https://colab.research.google.com/github/Barragan17/Charaka/blob/master/Colab/BR_goodbooks_CNN.ipynb\" target=\"_parent\"><img src=\"https://colab.research.google.com/assets/colab-badge.svg\" alt=\"Open In Colab\"/></a>"
      ]
    },
    {
      "cell_type": "code",
      "metadata": {
        "id": "mjeC40oV87qv"
      },
      "source": [
        "import pandas as pd\n",
        "import numpy as np\n",
        "import tensorflow as tf"
      ],
      "execution_count": 1,
      "outputs": []
    },
    {
      "cell_type": "code",
      "metadata": {
        "id": "vJq5b16LK0gO"
      },
      "source": [
        "import numpy as np\n",
        "import pandas as pd\n",
        "import matplotlib.pyplot as plt\n",
        "import os\n",
        "import warnings\n",
        "\n",
        "from keras.layers import Input, Embedding, Flatten, Dot, Dense\n",
        "from keras.models import Model\n",
        "\n",
        "warnings.filterwarnings('ignore')\n",
        "%matplotlib inline"
      ],
      "execution_count": 2,
      "outputs": []
    },
    {
      "cell_type": "code",
      "metadata": {
        "id": "x2nmH5lyFZU0"
      },
      "source": [
        "pip freeze --local > /content/drive/MyDrive/requirements.txt"
      ],
      "execution_count": 3,
      "outputs": []
    },
    {
      "cell_type": "markdown",
      "metadata": {
        "id": "8v8jLipXIV0r"
      },
      "source": [
        "Data from https://www.kaggle.com/zygmunt/goodbooks-10k"
      ]
    },
    {
      "cell_type": "code",
      "metadata": {
        "id": "XDCn4Acj9z8S"
      },
      "source": [
        "urlRating = '/content/drive/MyDrive/goodreads10k/ratings.csv'\n",
        "urlBooks = '/content/drive/MyDrive/goodreads10k/books.csv'\n",
        "urlTags = '/content/drive/MyDrive/goodreads10k/tags.csv'\n",
        "urlBookTags = '/content/drive/MyDrive/goodreads10k/book_tags.csv'\n",
        "urlToRead = '/content/drive/MyDrive/goodreads10k/to_read.csv'"
      ],
      "execution_count": 4,
      "outputs": []
    },
    {
      "cell_type": "code",
      "metadata": {
        "colab": {
          "base_uri": "https://localhost:8080/",
          "height": 204
        },
        "id": "KhrpTu3k-a4O",
        "outputId": "a18fc2b5-dfe7-4349-96b0-4d7556484914"
      },
      "source": [
        "rating = pd.read_csv(urlRating)\n",
        "rating.sample(5)"
      ],
      "execution_count": 5,
      "outputs": [
        {
          "output_type": "execute_result",
          "data": {
            "text/html": [
              "<div>\n",
              "<style scoped>\n",
              "    .dataframe tbody tr th:only-of-type {\n",
              "        vertical-align: middle;\n",
              "    }\n",
              "\n",
              "    .dataframe tbody tr th {\n",
              "        vertical-align: top;\n",
              "    }\n",
              "\n",
              "    .dataframe thead th {\n",
              "        text-align: right;\n",
              "    }\n",
              "</style>\n",
              "<table border=\"1\" class=\"dataframe\">\n",
              "  <thead>\n",
              "    <tr style=\"text-align: right;\">\n",
              "      <th></th>\n",
              "      <th>book_id</th>\n",
              "      <th>user_id</th>\n",
              "      <th>rating</th>\n",
              "    </tr>\n",
              "  </thead>\n",
              "  <tbody>\n",
              "    <tr>\n",
              "      <th>408919</th>\n",
              "      <td>4095</td>\n",
              "      <td>37127</td>\n",
              "      <td>4</td>\n",
              "    </tr>\n",
              "    <tr>\n",
              "      <th>364438</th>\n",
              "      <td>3649</td>\n",
              "      <td>30713</td>\n",
              "      <td>4</td>\n",
              "    </tr>\n",
              "    <tr>\n",
              "      <th>881133</th>\n",
              "      <td>8919</td>\n",
              "      <td>1648</td>\n",
              "      <td>3</td>\n",
              "    </tr>\n",
              "    <tr>\n",
              "      <th>124842</th>\n",
              "      <td>1249</td>\n",
              "      <td>29155</td>\n",
              "      <td>2</td>\n",
              "    </tr>\n",
              "    <tr>\n",
              "      <th>503756</th>\n",
              "      <td>5052</td>\n",
              "      <td>2498</td>\n",
              "      <td>4</td>\n",
              "    </tr>\n",
              "  </tbody>\n",
              "</table>\n",
              "</div>"
            ],
            "text/plain": [
              "        book_id  user_id  rating\n",
              "408919     4095    37127       4\n",
              "364438     3649    30713       4\n",
              "881133     8919     1648       3\n",
              "124842     1249    29155       2\n",
              "503756     5052     2498       4"
            ]
          },
          "metadata": {
            "tags": []
          },
          "execution_count": 5
        }
      ]
    },
    {
      "cell_type": "code",
      "metadata": {
        "colab": {
          "base_uri": "https://localhost:8080/",
          "height": 297
        },
        "id": "uXJnegUn_Npp",
        "outputId": "d2ef8d02-c20a-43b2-a6a9-e650d48f2c7f"
      },
      "source": [
        "rating.describe()"
      ],
      "execution_count": 6,
      "outputs": [
        {
          "output_type": "execute_result",
          "data": {
            "text/html": [
              "<div>\n",
              "<style scoped>\n",
              "    .dataframe tbody tr th:only-of-type {\n",
              "        vertical-align: middle;\n",
              "    }\n",
              "\n",
              "    .dataframe tbody tr th {\n",
              "        vertical-align: top;\n",
              "    }\n",
              "\n",
              "    .dataframe thead th {\n",
              "        text-align: right;\n",
              "    }\n",
              "</style>\n",
              "<table border=\"1\" class=\"dataframe\">\n",
              "  <thead>\n",
              "    <tr style=\"text-align: right;\">\n",
              "      <th></th>\n",
              "      <th>book_id</th>\n",
              "      <th>user_id</th>\n",
              "      <th>rating</th>\n",
              "    </tr>\n",
              "  </thead>\n",
              "  <tbody>\n",
              "    <tr>\n",
              "      <th>count</th>\n",
              "      <td>981756.000000</td>\n",
              "      <td>981756.000000</td>\n",
              "      <td>981756.000000</td>\n",
              "    </tr>\n",
              "    <tr>\n",
              "      <th>mean</th>\n",
              "      <td>4943.275636</td>\n",
              "      <td>25616.759933</td>\n",
              "      <td>3.856534</td>\n",
              "    </tr>\n",
              "    <tr>\n",
              "      <th>std</th>\n",
              "      <td>2873.207415</td>\n",
              "      <td>15228.338826</td>\n",
              "      <td>0.983941</td>\n",
              "    </tr>\n",
              "    <tr>\n",
              "      <th>min</th>\n",
              "      <td>1.000000</td>\n",
              "      <td>1.000000</td>\n",
              "      <td>1.000000</td>\n",
              "    </tr>\n",
              "    <tr>\n",
              "      <th>25%</th>\n",
              "      <td>2457.000000</td>\n",
              "      <td>12372.000000</td>\n",
              "      <td>3.000000</td>\n",
              "    </tr>\n",
              "    <tr>\n",
              "      <th>50%</th>\n",
              "      <td>4921.000000</td>\n",
              "      <td>25077.000000</td>\n",
              "      <td>4.000000</td>\n",
              "    </tr>\n",
              "    <tr>\n",
              "      <th>75%</th>\n",
              "      <td>7414.000000</td>\n",
              "      <td>38572.000000</td>\n",
              "      <td>5.000000</td>\n",
              "    </tr>\n",
              "    <tr>\n",
              "      <th>max</th>\n",
              "      <td>10000.000000</td>\n",
              "      <td>53424.000000</td>\n",
              "      <td>5.000000</td>\n",
              "    </tr>\n",
              "  </tbody>\n",
              "</table>\n",
              "</div>"
            ],
            "text/plain": [
              "             book_id        user_id         rating\n",
              "count  981756.000000  981756.000000  981756.000000\n",
              "mean     4943.275636   25616.759933       3.856534\n",
              "std      2873.207415   15228.338826       0.983941\n",
              "min         1.000000       1.000000       1.000000\n",
              "25%      2457.000000   12372.000000       3.000000\n",
              "50%      4921.000000   25077.000000       4.000000\n",
              "75%      7414.000000   38572.000000       5.000000\n",
              "max     10000.000000   53424.000000       5.000000"
            ]
          },
          "metadata": {
            "tags": []
          },
          "execution_count": 6
        }
      ]
    },
    {
      "cell_type": "code",
      "metadata": {
        "colab": {
          "base_uri": "https://localhost:8080/",
          "height": 496
        },
        "id": "LkqnhYYE_TlY",
        "outputId": "b3e3f060-f7c1-4bba-f6f0-fc446fb7b255"
      },
      "source": [
        "books = pd.read_csv(urlBooks)\n",
        "books.sample(5)"
      ],
      "execution_count": 7,
      "outputs": [
        {
          "output_type": "execute_result",
          "data": {
            "text/html": [
              "<div>\n",
              "<style scoped>\n",
              "    .dataframe tbody tr th:only-of-type {\n",
              "        vertical-align: middle;\n",
              "    }\n",
              "\n",
              "    .dataframe tbody tr th {\n",
              "        vertical-align: top;\n",
              "    }\n",
              "\n",
              "    .dataframe thead th {\n",
              "        text-align: right;\n",
              "    }\n",
              "</style>\n",
              "<table border=\"1\" class=\"dataframe\">\n",
              "  <thead>\n",
              "    <tr style=\"text-align: right;\">\n",
              "      <th></th>\n",
              "      <th>id</th>\n",
              "      <th>book_id</th>\n",
              "      <th>best_book_id</th>\n",
              "      <th>work_id</th>\n",
              "      <th>books_count</th>\n",
              "      <th>isbn</th>\n",
              "      <th>isbn13</th>\n",
              "      <th>authors</th>\n",
              "      <th>original_publication_year</th>\n",
              "      <th>original_title</th>\n",
              "      <th>title</th>\n",
              "      <th>language_code</th>\n",
              "      <th>average_rating</th>\n",
              "      <th>ratings_count</th>\n",
              "      <th>work_ratings_count</th>\n",
              "      <th>work_text_reviews_count</th>\n",
              "      <th>ratings_1</th>\n",
              "      <th>ratings_2</th>\n",
              "      <th>ratings_3</th>\n",
              "      <th>ratings_4</th>\n",
              "      <th>ratings_5</th>\n",
              "      <th>image_url</th>\n",
              "      <th>small_image_url</th>\n",
              "    </tr>\n",
              "  </thead>\n",
              "  <tbody>\n",
              "    <tr>\n",
              "      <th>7452</th>\n",
              "      <td>7453</td>\n",
              "      <td>4507</td>\n",
              "      <td>4507</td>\n",
              "      <td>1370491</td>\n",
              "      <td>32</td>\n",
              "      <td>553803077</td>\n",
              "      <td>9.780554e+12</td>\n",
              "      <td>Julie Gregory</td>\n",
              "      <td>2003.0</td>\n",
              "      <td>Sickened</td>\n",
              "      <td>Sickened: The Memoir of a Munchausen by Proxy ...</td>\n",
              "      <td>NaN</td>\n",
              "      <td>3.72</td>\n",
              "      <td>11860</td>\n",
              "      <td>13713</td>\n",
              "      <td>1079</td>\n",
              "      <td>271</td>\n",
              "      <td>1109</td>\n",
              "      <td>4097</td>\n",
              "      <td>4942</td>\n",
              "      <td>3294</td>\n",
              "      <td>https://s.gr-assets.com/assets/nophoto/book/11...</td>\n",
              "      <td>https://s.gr-assets.com/assets/nophoto/book/50...</td>\n",
              "    </tr>\n",
              "    <tr>\n",
              "      <th>8748</th>\n",
              "      <td>8749</td>\n",
              "      <td>10429025</td>\n",
              "      <td>10429025</td>\n",
              "      <td>7790670</td>\n",
              "      <td>9</td>\n",
              "      <td>61990655</td>\n",
              "      <td>9.780062e+12</td>\n",
              "      <td>Jocelyn Davies</td>\n",
              "      <td>2011.0</td>\n",
              "      <td>A Beautiful Dark</td>\n",
              "      <td>A Beautiful Dark (A Beautiful Dark, #1)</td>\n",
              "      <td>en-US</td>\n",
              "      <td>3.90</td>\n",
              "      <td>16529</td>\n",
              "      <td>16909</td>\n",
              "      <td>1320</td>\n",
              "      <td>557</td>\n",
              "      <td>1238</td>\n",
              "      <td>3819</td>\n",
              "      <td>5086</td>\n",
              "      <td>6209</td>\n",
              "      <td>https://images.gr-assets.com/books/1327916579m...</td>\n",
              "      <td>https://images.gr-assets.com/books/1327916579s...</td>\n",
              "    </tr>\n",
              "    <tr>\n",
              "      <th>5583</th>\n",
              "      <td>5584</td>\n",
              "      <td>13345975</td>\n",
              "      <td>13345975</td>\n",
              "      <td>18562276</td>\n",
              "      <td>9</td>\n",
              "      <td>NaN</td>\n",
              "      <td>9.781476e+12</td>\n",
              "      <td>K.A. Linde</td>\n",
              "      <td>2012.0</td>\n",
              "      <td>Avoiding Commitment</td>\n",
              "      <td>Avoiding Commitment (Avoiding, #1)</td>\n",
              "      <td>eng</td>\n",
              "      <td>3.85</td>\n",
              "      <td>28253</td>\n",
              "      <td>29510</td>\n",
              "      <td>2452</td>\n",
              "      <td>1444</td>\n",
              "      <td>2174</td>\n",
              "      <td>5960</td>\n",
              "      <td>9706</td>\n",
              "      <td>10226</td>\n",
              "      <td>https://images.gr-assets.com/books/1343768792m...</td>\n",
              "      <td>https://images.gr-assets.com/books/1343768792s...</td>\n",
              "    </tr>\n",
              "    <tr>\n",
              "      <th>1573</th>\n",
              "      <td>1574</td>\n",
              "      <td>18423</td>\n",
              "      <td>18423</td>\n",
              "      <td>817527</td>\n",
              "      <td>127</td>\n",
              "      <td>441007317</td>\n",
              "      <td>9.780441e+12</td>\n",
              "      <td>Ursula K. Le Guin, Lech Jęczmyk</td>\n",
              "      <td>1969.0</td>\n",
              "      <td>The Left Hand of Darkness</td>\n",
              "      <td>The Left Hand of Darkness</td>\n",
              "      <td>eng</td>\n",
              "      <td>4.05</td>\n",
              "      <td>61888</td>\n",
              "      <td>72176</td>\n",
              "      <td>4708</td>\n",
              "      <td>1170</td>\n",
              "      <td>3497</td>\n",
              "      <td>13266</td>\n",
              "      <td>26812</td>\n",
              "      <td>27431</td>\n",
              "      <td>https://images.gr-assets.com/books/1488213612m...</td>\n",
              "      <td>https://images.gr-assets.com/books/1488213612s...</td>\n",
              "    </tr>\n",
              "    <tr>\n",
              "      <th>6997</th>\n",
              "      <td>6998</td>\n",
              "      <td>38723</td>\n",
              "      <td>17573685</td>\n",
              "      <td>809732</td>\n",
              "      <td>68</td>\n",
              "      <td>393322572</td>\n",
              "      <td>9.780393e+12</td>\n",
              "      <td>Betty Friedan, Anna Quindlen</td>\n",
              "      <td>1963.0</td>\n",
              "      <td>The Feminine Mystique</td>\n",
              "      <td>The Feminine Mystique</td>\n",
              "      <td>eng</td>\n",
              "      <td>3.85</td>\n",
              "      <td>9823</td>\n",
              "      <td>16455</td>\n",
              "      <td>1137</td>\n",
              "      <td>283</td>\n",
              "      <td>1001</td>\n",
              "      <td>4182</td>\n",
              "      <td>6432</td>\n",
              "      <td>4557</td>\n",
              "      <td>https://images.gr-assets.com/books/1479777578m...</td>\n",
              "      <td>https://images.gr-assets.com/books/1479777578s...</td>\n",
              "    </tr>\n",
              "  </tbody>\n",
              "</table>\n",
              "</div>"
            ],
            "text/plain": [
              "        id  ...                                    small_image_url\n",
              "7452  7453  ...  https://s.gr-assets.com/assets/nophoto/book/50...\n",
              "8748  8749  ...  https://images.gr-assets.com/books/1327916579s...\n",
              "5583  5584  ...  https://images.gr-assets.com/books/1343768792s...\n",
              "1573  1574  ...  https://images.gr-assets.com/books/1488213612s...\n",
              "6997  6998  ...  https://images.gr-assets.com/books/1479777578s...\n",
              "\n",
              "[5 rows x 23 columns]"
            ]
          },
          "metadata": {
            "tags": []
          },
          "execution_count": 7
        }
      ]
    },
    {
      "cell_type": "code",
      "metadata": {
        "colab": {
          "base_uri": "https://localhost:8080/",
          "height": 864
        },
        "id": "rdyOqdqr_Zu3",
        "outputId": "44707c92-5a29-472b-86fc-33dbd690c137"
      },
      "source": [
        "books.drop(['isbn13', 'ratings_count', 'best_book_id', 'work_id', 'book_id'], axis=1)"
      ],
      "execution_count": 8,
      "outputs": [
        {
          "output_type": "execute_result",
          "data": {
            "text/html": [
              "<div>\n",
              "<style scoped>\n",
              "    .dataframe tbody tr th:only-of-type {\n",
              "        vertical-align: middle;\n",
              "    }\n",
              "\n",
              "    .dataframe tbody tr th {\n",
              "        vertical-align: top;\n",
              "    }\n",
              "\n",
              "    .dataframe thead th {\n",
              "        text-align: right;\n",
              "    }\n",
              "</style>\n",
              "<table border=\"1\" class=\"dataframe\">\n",
              "  <thead>\n",
              "    <tr style=\"text-align: right;\">\n",
              "      <th></th>\n",
              "      <th>id</th>\n",
              "      <th>books_count</th>\n",
              "      <th>isbn</th>\n",
              "      <th>authors</th>\n",
              "      <th>original_publication_year</th>\n",
              "      <th>original_title</th>\n",
              "      <th>title</th>\n",
              "      <th>language_code</th>\n",
              "      <th>average_rating</th>\n",
              "      <th>work_ratings_count</th>\n",
              "      <th>work_text_reviews_count</th>\n",
              "      <th>ratings_1</th>\n",
              "      <th>ratings_2</th>\n",
              "      <th>ratings_3</th>\n",
              "      <th>ratings_4</th>\n",
              "      <th>ratings_5</th>\n",
              "      <th>image_url</th>\n",
              "      <th>small_image_url</th>\n",
              "    </tr>\n",
              "  </thead>\n",
              "  <tbody>\n",
              "    <tr>\n",
              "      <th>0</th>\n",
              "      <td>1</td>\n",
              "      <td>272</td>\n",
              "      <td>439023483</td>\n",
              "      <td>Suzanne Collins</td>\n",
              "      <td>2008.0</td>\n",
              "      <td>The Hunger Games</td>\n",
              "      <td>The Hunger Games (The Hunger Games, #1)</td>\n",
              "      <td>eng</td>\n",
              "      <td>4.34</td>\n",
              "      <td>4942365</td>\n",
              "      <td>155254</td>\n",
              "      <td>66715</td>\n",
              "      <td>127936</td>\n",
              "      <td>560092</td>\n",
              "      <td>1481305</td>\n",
              "      <td>2706317</td>\n",
              "      <td>https://images.gr-assets.com/books/1447303603m...</td>\n",
              "      <td>https://images.gr-assets.com/books/1447303603s...</td>\n",
              "    </tr>\n",
              "    <tr>\n",
              "      <th>1</th>\n",
              "      <td>2</td>\n",
              "      <td>491</td>\n",
              "      <td>439554934</td>\n",
              "      <td>J.K. Rowling, Mary GrandPré</td>\n",
              "      <td>1997.0</td>\n",
              "      <td>Harry Potter and the Philosopher's Stone</td>\n",
              "      <td>Harry Potter and the Sorcerer's Stone (Harry P...</td>\n",
              "      <td>eng</td>\n",
              "      <td>4.44</td>\n",
              "      <td>4800065</td>\n",
              "      <td>75867</td>\n",
              "      <td>75504</td>\n",
              "      <td>101676</td>\n",
              "      <td>455024</td>\n",
              "      <td>1156318</td>\n",
              "      <td>3011543</td>\n",
              "      <td>https://images.gr-assets.com/books/1474154022m...</td>\n",
              "      <td>https://images.gr-assets.com/books/1474154022s...</td>\n",
              "    </tr>\n",
              "    <tr>\n",
              "      <th>2</th>\n",
              "      <td>3</td>\n",
              "      <td>226</td>\n",
              "      <td>316015849</td>\n",
              "      <td>Stephenie Meyer</td>\n",
              "      <td>2005.0</td>\n",
              "      <td>Twilight</td>\n",
              "      <td>Twilight (Twilight, #1)</td>\n",
              "      <td>en-US</td>\n",
              "      <td>3.57</td>\n",
              "      <td>3916824</td>\n",
              "      <td>95009</td>\n",
              "      <td>456191</td>\n",
              "      <td>436802</td>\n",
              "      <td>793319</td>\n",
              "      <td>875073</td>\n",
              "      <td>1355439</td>\n",
              "      <td>https://images.gr-assets.com/books/1361039443m...</td>\n",
              "      <td>https://images.gr-assets.com/books/1361039443s...</td>\n",
              "    </tr>\n",
              "    <tr>\n",
              "      <th>3</th>\n",
              "      <td>4</td>\n",
              "      <td>487</td>\n",
              "      <td>61120081</td>\n",
              "      <td>Harper Lee</td>\n",
              "      <td>1960.0</td>\n",
              "      <td>To Kill a Mockingbird</td>\n",
              "      <td>To Kill a Mockingbird</td>\n",
              "      <td>eng</td>\n",
              "      <td>4.25</td>\n",
              "      <td>3340896</td>\n",
              "      <td>72586</td>\n",
              "      <td>60427</td>\n",
              "      <td>117415</td>\n",
              "      <td>446835</td>\n",
              "      <td>1001952</td>\n",
              "      <td>1714267</td>\n",
              "      <td>https://images.gr-assets.com/books/1361975680m...</td>\n",
              "      <td>https://images.gr-assets.com/books/1361975680s...</td>\n",
              "    </tr>\n",
              "    <tr>\n",
              "      <th>4</th>\n",
              "      <td>5</td>\n",
              "      <td>1356</td>\n",
              "      <td>743273567</td>\n",
              "      <td>F. Scott Fitzgerald</td>\n",
              "      <td>1925.0</td>\n",
              "      <td>The Great Gatsby</td>\n",
              "      <td>The Great Gatsby</td>\n",
              "      <td>eng</td>\n",
              "      <td>3.89</td>\n",
              "      <td>2773745</td>\n",
              "      <td>51992</td>\n",
              "      <td>86236</td>\n",
              "      <td>197621</td>\n",
              "      <td>606158</td>\n",
              "      <td>936012</td>\n",
              "      <td>947718</td>\n",
              "      <td>https://images.gr-assets.com/books/1490528560m...</td>\n",
              "      <td>https://images.gr-assets.com/books/1490528560s...</td>\n",
              "    </tr>\n",
              "    <tr>\n",
              "      <th>...</th>\n",
              "      <td>...</td>\n",
              "      <td>...</td>\n",
              "      <td>...</td>\n",
              "      <td>...</td>\n",
              "      <td>...</td>\n",
              "      <td>...</td>\n",
              "      <td>...</td>\n",
              "      <td>...</td>\n",
              "      <td>...</td>\n",
              "      <td>...</td>\n",
              "      <td>...</td>\n",
              "      <td>...</td>\n",
              "      <td>...</td>\n",
              "      <td>...</td>\n",
              "      <td>...</td>\n",
              "      <td>...</td>\n",
              "      <td>...</td>\n",
              "      <td>...</td>\n",
              "    </tr>\n",
              "    <tr>\n",
              "      <th>9995</th>\n",
              "      <td>9996</td>\n",
              "      <td>19</td>\n",
              "      <td>441019455</td>\n",
              "      <td>Ilona Andrews</td>\n",
              "      <td>2010.0</td>\n",
              "      <td>Bayou Moon</td>\n",
              "      <td>Bayou Moon (The Edge, #2)</td>\n",
              "      <td>eng</td>\n",
              "      <td>4.09</td>\n",
              "      <td>18856</td>\n",
              "      <td>1180</td>\n",
              "      <td>105</td>\n",
              "      <td>575</td>\n",
              "      <td>3538</td>\n",
              "      <td>7860</td>\n",
              "      <td>6778</td>\n",
              "      <td>https://images.gr-assets.com/books/1307445460m...</td>\n",
              "      <td>https://images.gr-assets.com/books/1307445460s...</td>\n",
              "    </tr>\n",
              "    <tr>\n",
              "      <th>9996</th>\n",
              "      <td>9997</td>\n",
              "      <td>19</td>\n",
              "      <td>067973371X</td>\n",
              "      <td>Robert A. Caro</td>\n",
              "      <td>1990.0</td>\n",
              "      <td>Means of Ascent</td>\n",
              "      <td>Means of Ascent (The Years of Lyndon Johnson, #2)</td>\n",
              "      <td>eng</td>\n",
              "      <td>4.25</td>\n",
              "      <td>12952</td>\n",
              "      <td>395</td>\n",
              "      <td>303</td>\n",
              "      <td>551</td>\n",
              "      <td>1737</td>\n",
              "      <td>3389</td>\n",
              "      <td>6972</td>\n",
              "      <td>https://s.gr-assets.com/assets/nophoto/book/11...</td>\n",
              "      <td>https://s.gr-assets.com/assets/nophoto/book/50...</td>\n",
              "    </tr>\n",
              "    <tr>\n",
              "      <th>9997</th>\n",
              "      <td>9998</td>\n",
              "      <td>60</td>\n",
              "      <td>039330762X</td>\n",
              "      <td>Patrick O'Brian</td>\n",
              "      <td>1977.0</td>\n",
              "      <td>The Mauritius Command</td>\n",
              "      <td>The Mauritius Command</td>\n",
              "      <td>eng</td>\n",
              "      <td>4.35</td>\n",
              "      <td>10733</td>\n",
              "      <td>374</td>\n",
              "      <td>11</td>\n",
              "      <td>111</td>\n",
              "      <td>1191</td>\n",
              "      <td>4240</td>\n",
              "      <td>5180</td>\n",
              "      <td>https://images.gr-assets.com/books/1455373531m...</td>\n",
              "      <td>https://images.gr-assets.com/books/1455373531s...</td>\n",
              "    </tr>\n",
              "    <tr>\n",
              "      <th>9998</th>\n",
              "      <td>9999</td>\n",
              "      <td>7</td>\n",
              "      <td>61711527</td>\n",
              "      <td>Peggy Orenstein</td>\n",
              "      <td>2011.0</td>\n",
              "      <td>Cinderella Ate My Daughter: Dispatches from th...</td>\n",
              "      <td>Cinderella Ate My Daughter: Dispatches from th...</td>\n",
              "      <td>eng</td>\n",
              "      <td>3.65</td>\n",
              "      <td>11994</td>\n",
              "      <td>1988</td>\n",
              "      <td>275</td>\n",
              "      <td>1002</td>\n",
              "      <td>3765</td>\n",
              "      <td>4577</td>\n",
              "      <td>2375</td>\n",
              "      <td>https://images.gr-assets.com/books/1279214118m...</td>\n",
              "      <td>https://images.gr-assets.com/books/1279214118s...</td>\n",
              "    </tr>\n",
              "    <tr>\n",
              "      <th>9999</th>\n",
              "      <td>10000</td>\n",
              "      <td>31</td>\n",
              "      <td>375700455</td>\n",
              "      <td>John Keegan</td>\n",
              "      <td>1998.0</td>\n",
              "      <td>The First World War</td>\n",
              "      <td>The First World War</td>\n",
              "      <td>NaN</td>\n",
              "      <td>4.00</td>\n",
              "      <td>9700</td>\n",
              "      <td>364</td>\n",
              "      <td>117</td>\n",
              "      <td>345</td>\n",
              "      <td>2031</td>\n",
              "      <td>4138</td>\n",
              "      <td>3069</td>\n",
              "      <td>https://images.gr-assets.com/books/1403194704m...</td>\n",
              "      <td>https://images.gr-assets.com/books/1403194704s...</td>\n",
              "    </tr>\n",
              "  </tbody>\n",
              "</table>\n",
              "<p>10000 rows × 18 columns</p>\n",
              "</div>"
            ],
            "text/plain": [
              "         id  ...                                    small_image_url\n",
              "0         1  ...  https://images.gr-assets.com/books/1447303603s...\n",
              "1         2  ...  https://images.gr-assets.com/books/1474154022s...\n",
              "2         3  ...  https://images.gr-assets.com/books/1361039443s...\n",
              "3         4  ...  https://images.gr-assets.com/books/1361975680s...\n",
              "4         5  ...  https://images.gr-assets.com/books/1490528560s...\n",
              "...     ...  ...                                                ...\n",
              "9995   9996  ...  https://images.gr-assets.com/books/1307445460s...\n",
              "9996   9997  ...  https://s.gr-assets.com/assets/nophoto/book/50...\n",
              "9997   9998  ...  https://images.gr-assets.com/books/1455373531s...\n",
              "9998   9999  ...  https://images.gr-assets.com/books/1279214118s...\n",
              "9999  10000  ...  https://images.gr-assets.com/books/1403194704s...\n",
              "\n",
              "[10000 rows x 18 columns]"
            ]
          },
          "metadata": {
            "tags": []
          },
          "execution_count": 8
        }
      ]
    },
    {
      "cell_type": "code",
      "metadata": {
        "id": "ax6jU94qHhYF"
      },
      "source": [
        "from sklearn.model_selection import train_test_split\n",
        "train, test = train_test_split(rating, test_size=0.2, random_state=42)"
      ],
      "execution_count": 15,
      "outputs": []
    },
    {
      "cell_type": "code",
      "metadata": {
        "id": "ukFR5wQ6K6v7"
      },
      "source": [
        "n_users = len(rating.user_id.unique())\n",
        "n_books = len(rating.book_id.unique())"
      ],
      "execution_count": 16,
      "outputs": []
    },
    {
      "cell_type": "code",
      "metadata": {
        "id": "Y1153syrKZFF"
      },
      "source": [
        "from keras.layers import Concatenate\n",
        "\n",
        "# creating book embedding path\n",
        "book_input = Input(shape=[1], name=\"Book-Input\")\n",
        "book_embedding = Embedding(n_books+1, 5, name=\"Book-Embedding\")(book_input)\n",
        "book_vec = Flatten(name=\"Flatten-Books\")(book_embedding)\n",
        "\n",
        "# creating user embedding path\n",
        "user_input = Input(shape=[1], name=\"User-Input\")\n",
        "user_embedding = Embedding(n_users+1, 5, name=\"User-Embedding\")(user_input)\n",
        "user_vec = Flatten(name=\"Flatten-Users\")(user_embedding)\n",
        "\n",
        "# concatenate features\n",
        "conc = Concatenate()([book_vec, user_vec])\n",
        "\n",
        "# add fully-connected-layers\n",
        "fc1 = Dense(128, activation='relu')(conc)\n",
        "fc2 = Dense(32, activation='relu')(fc1)\n",
        "out = Dense(1)(fc2)\n",
        "\n",
        "# Create model and compile it\n",
        "model2 = Model([user_input, book_input], out)\n",
        "model2.compile(optimizer='adam', loss='mean_squared_error')"
      ],
      "execution_count": 17,
      "outputs": []
    },
    {
      "cell_type": "code",
      "metadata": {
        "colab": {
          "base_uri": "https://localhost:8080/",
          "height": 636
        },
        "id": "VghGhX9HKuja",
        "outputId": "21129070-1f8f-46cc-9106-4b5e4f9cea9f"
      },
      "source": [
        "history = model2.fit([train.user_id, train.book_id], train.rating, batch_size=32, epochs=5, verbose=1, validation_split=0.2, use_multiprocessing=True)\n",
        "plt.plot(history.history['loss'])\n",
        "plt.xlabel(\"Epochs\")\n",
        "plt.ylabel(\"Training Error\")"
      ],
      "execution_count": 18,
      "outputs": [
        {
          "output_type": "stream",
          "text": [
            "Epoch 1/10\n",
            "19636/19636 [==============================] - 99s 5ms/step - loss: 1.0703 - val_loss: 0.7309\n",
            "Epoch 2/10\n",
            "19636/19636 [==============================] - 97s 5ms/step - loss: 0.6799 - val_loss: 0.7252\n",
            "Epoch 3/10\n",
            "19636/19636 [==============================] - 100s 5ms/step - loss: 0.6486 - val_loss: 0.7120\n",
            "Epoch 4/10\n",
            "19636/19636 [==============================] - 97s 5ms/step - loss: 0.6215 - val_loss: 0.7100\n",
            "Epoch 5/10\n",
            "19636/19636 [==============================] - 96s 5ms/step - loss: 0.6037 - val_loss: 0.7124\n",
            "Epoch 6/10\n",
            "19636/19636 [==============================] - 97s 5ms/step - loss: 0.5795 - val_loss: 0.7263\n",
            "Epoch 7/10\n",
            "19636/19636 [==============================] - 103s 5ms/step - loss: 0.5558 - val_loss: 0.7247\n",
            "Epoch 8/10\n",
            "19636/19636 [==============================] - 100s 5ms/step - loss: 0.5361 - val_loss: 0.7349\n",
            "Epoch 9/10\n",
            "19636/19636 [==============================] - 99s 5ms/step - loss: 0.5182 - val_loss: 0.7545\n",
            "Epoch 10/10\n",
            "19636/19636 [==============================] - 100s 5ms/step - loss: 0.4986 - val_loss: 0.7589\n"
          ],
          "name": "stdout"
        },
        {
          "output_type": "execute_result",
          "data": {
            "text/plain": [
              "Text(0, 0.5, 'Training Error')"
            ]
          },
          "metadata": {
            "tags": []
          },
          "execution_count": 18
        },
        {
          "output_type": "display_data",
          "data": {
            "image/png": "[encoded data removed]",
            "text/plain": [
              "<Figure size 432x288 with 1 Axes>"
            ]
          },
          "metadata": {
            "tags": [],
            "needs_background": "light"
          }
        }
      ]
    },
    {
      "cell_type": "code",
      "metadata": {
        "colab": {
          "base_uri": "https://localhost:8080/",
          "height": 296
        },
        "id": "NTDhGsFz7-v9",
        "outputId": "58b8031a-1654-4177-938b-84ebc0e99739"
      },
      "source": [
        "plt.plot(history.history['val_loss'])\n",
        "plt.xlabel(\"Epochs\")\n",
        "plt.ylabel(\"Validation Error\")"
      ],
      "execution_count": 21,
      "outputs": [
        {
          "output_type": "execute_result",
          "data": {
            "text/plain": [
              "Text(0, 0.5, 'Validation Error')"
            ]
          },
          "metadata": {
            "tags": []
          },
          "execution_count": 21
        },
        {
          "output_type": "display_data",
          "data": {
            "image/png": "[encoded data removed]",
            "text/plain": [
              "<Figure size 432x288 with 1 Axes>"
            ]
          },
          "metadata": {
            "tags": [],
            "needs_background": "light"
          }
        }
      ]
    },
    {
      "cell_type": "code",
      "metadata": {
        "colab": {
          "base_uri": "https://localhost:8080/"
        },
        "id": "ESb0r1eRLgd7",
        "outputId": "c2c37849-427e-4a50-e459-0504c9998035"
      },
      "source": [
        "model2.evaluate([test.user_id, test.book_id], test.rating)"
      ],
      "execution_count": 19,
      "outputs": [
        {
          "output_type": "stream",
          "text": [
            "6136/6136 [==============================] - 11s 2ms/step - loss: 0.7621\n"
          ],
          "name": "stdout"
        },
        {
          "output_type": "execute_result",
          "data": {
            "text/plain": [
              "0.762060284614563"
            ]
          },
          "metadata": {
            "tags": []
          },
          "execution_count": 19
        }
      ]
    },
    {
      "cell_type": "code",
      "metadata": {
        "id": "F7QxSnBFOjxa"
      },
      "source": [
        "predictions = model2.predict([test.user_id.head(10), test.book_id.head(10)])#input user_id and book_id"
      ],
      "execution_count": 14,
      "outputs": []
    },
    {
      "cell_type": "code",
      "metadata": {
        "colab": {
          "base_uri": "https://localhost:8080/"
        },
        "id": "PoXeu9UqOt76",
        "outputId": "2dffa86e-4c7c-4e81-8ac1-481ff2df1f33"
      },
      "source": [
        "[print(predictions[i], test.rating.iloc[i]) for i in range(0,10)] #output prediction_score for a certain book with their actual_score"
      ],
      "execution_count": 15,
      "outputs": [
        {
          "output_type": "stream",
          "text": [
            "[5.0132976] 5\n",
            "[3.8527036] 4\n",
            "[3.6133218] 3\n",
            "[4.2055807] 5\n",
            "[3.5592318] 3\n",
            "[3.6761231] 3\n",
            "[3.829093] 3\n",
            "[4.7980976] 4\n",
            "[4.162579] 3\n",
            "[4.15185] 5\n"
          ],
          "name": "stdout"
        },
        {
          "output_type": "execute_result",
          "data": {
            "text/plain": [
              "[None, None, None, None, None, None, None, None, None, None]"
            ]
          },
          "metadata": {
            "tags": []
          },
          "execution_count": 15
        }
      ]
    },
    {
      "cell_type": "code",
      "metadata": {
        "colab": {
          "base_uri": "https://localhost:8080/"
        },
        "id": "NICCXzISOvTm",
        "outputId": "968fdfa9-f984-4dfa-d9e4-7902e070c15a"
      },
      "source": [
        "book_data = np.array(list(set(rating.book_id)))\n",
        "book_data #every book_id on rating dataset. 981756 because one book_id can be rated multiple times"
      ],
      "execution_count": 16,
      "outputs": [
        {
          "output_type": "execute_result",
          "data": {
            "text/plain": [
              "array([    1,     2,     3, ...,  9998,  9999, 10000])"
            ]
          },
          "metadata": {
            "tags": []
          },
          "execution_count": 16
        }
      ]
    },
    {
      "cell_type": "code",
      "metadata": {
        "colab": {
          "base_uri": "https://localhost:8080/"
        },
        "id": "jDpic-HoO9fM",
        "outputId": "ed252bb4-0582-42ab-fbad-d4efd7dd57be"
      },
      "source": [
        "user = np.array([100 for i in range(len(book_data))]) #user_id we want to predict\n",
        "user"
      ],
      "execution_count": 17,
      "outputs": [
        {
          "output_type": "execute_result",
          "data": {
            "text/plain": [
              "array([100, 100, 100, ..., 100, 100, 100])"
            ]
          },
          "metadata": {
            "tags": []
          },
          "execution_count": 17
        }
      ]
    },
    {
      "cell_type": "code",
      "metadata": {
        "colab": {
          "base_uri": "https://localhost:8080/"
        },
        "id": "I4u5RZj9PFie",
        "outputId": "62736988-642c-41c3-daa5-368fd477a7be"
      },
      "source": [
        "predictions = model2.predict([user, book_data])\n",
        "\n",
        "predictions = np.array([a[0] for a in predictions]) #score for every book_id on rating dataset\n",
        "\n",
        "recommended_book_ids = (-predictions).argsort()[:5]\n",
        "\n",
        "recommended_book_ids"
      ],
      "execution_count": 18,
      "outputs": [
        {
          "output_type": "execute_result",
          "data": {
            "text/plain": [
              "array([8945, 7946, 6589, 6919, 5206])"
            ]
          },
          "metadata": {
            "tags": []
          },
          "execution_count": 18
        }
      ]
    },
    {
      "cell_type": "code",
      "metadata": {
        "colab": {
          "base_uri": "https://localhost:8080/"
        },
        "id": "ebdlRZIDEnr_",
        "outputId": "cdd5f966-fd36-460c-b8f6-dbbbd5605f13"
      },
      "source": [
        "len(rating.book_id)"
      ],
      "execution_count": 19,
      "outputs": [
        {
          "output_type": "execute_result",
          "data": {
            "text/plain": [
              "981756"
            ]
          },
          "metadata": {
            "tags": []
          },
          "execution_count": 19
        }
      ]
    },
    {
      "cell_type": "code",
      "metadata": {
        "colab": {
          "base_uri": "https://localhost:8080/"
        },
        "id": "-Hm8vei4GbDV",
        "outputId": "bfb3ab86-0076-47bb-def5-b348999bf8d9"
      },
      "source": [
        "predictions"
      ],
      "execution_count": 20,
      "outputs": [
        {
          "output_type": "execute_result",
          "data": {
            "text/plain": [
              "array([4.5221148, 4.412266 , 2.8044248, ..., 4.38539  , 3.8948483,\n",
              "       4.185023 ], dtype=float32)"
            ]
          },
          "metadata": {
            "tags": []
          },
          "execution_count": 20
        }
      ]
    },
    {
      "cell_type": "code",
      "metadata": {
        "colab": {
          "base_uri": "https://localhost:8080/"
        },
        "id": "8wbgugUPPL3a",
        "outputId": "e1874c66-bacb-462a-d240-97a87401004b"
      },
      "source": [
        "predictions[recommended_book_ids]"
      ],
      "execution_count": 21,
      "outputs": [
        {
          "output_type": "execute_result",
          "data": {
            "text/plain": [
              "array([4.957919 , 4.9244995, 4.9104605, 4.9044237, 4.9034395],\n",
              "      dtype=float32)"
            ]
          },
          "metadata": {
            "tags": []
          },
          "execution_count": 21
        }
      ]
    },
    {
      "cell_type": "code",
      "metadata": {
        "colab": {
          "base_uri": "https://localhost:8080/",
          "height": 428
        },
        "id": "g78DiUcNPT7J",
        "outputId": "51e1fd2f-747d-4f61-c914-27ad7ee516ab"
      },
      "source": [
        "books[books['id'].isin(recommended_book_ids)]"
      ],
      "execution_count": 22,
      "outputs": [
        {
          "output_type": "execute_result",
          "data": {
            "text/html": [
              "<div>\n",
              "<style scoped>\n",
              "    .dataframe tbody tr th:only-of-type {\n",
              "        vertical-align: middle;\n",
              "    }\n",
              "\n",
              "    .dataframe tbody tr th {\n",
              "        vertical-align: top;\n",
              "    }\n",
              "\n",
              "    .dataframe thead th {\n",
              "        text-align: right;\n",
              "    }\n",
              "</style>\n",
              "<table border=\"1\" class=\"dataframe\">\n",
              "  <thead>\n",
              "    <tr style=\"text-align: right;\">\n",
              "      <th></th>\n",
              "      <th>id</th>\n",
              "      <th>book_id</th>\n",
              "      <th>best_book_id</th>\n",
              "      <th>work_id</th>\n",
              "      <th>books_count</th>\n",
              "      <th>isbn</th>\n",
              "      <th>isbn13</th>\n",
              "      <th>authors</th>\n",
              "      <th>original_publication_year</th>\n",
              "      <th>original_title</th>\n",
              "      <th>title</th>\n",
              "      <th>language_code</th>\n",
              "      <th>average_rating</th>\n",
              "      <th>ratings_count</th>\n",
              "      <th>work_ratings_count</th>\n",
              "      <th>work_text_reviews_count</th>\n",
              "      <th>ratings_1</th>\n",
              "      <th>ratings_2</th>\n",
              "      <th>ratings_3</th>\n",
              "      <th>ratings_4</th>\n",
              "      <th>ratings_5</th>\n",
              "      <th>image_url</th>\n",
              "      <th>small_image_url</th>\n",
              "    </tr>\n",
              "  </thead>\n",
              "  <tbody>\n",
              "    <tr>\n",
              "      <th>5205</th>\n",
              "      <td>5206</td>\n",
              "      <td>13066</td>\n",
              "      <td>13066</td>\n",
              "      <td>2257006</td>\n",
              "      <td>31</td>\n",
              "      <td>446695688</td>\n",
              "      <td>9.780447e+12</td>\n",
              "      <td>Carl Hiaasen</td>\n",
              "      <td>2000.0</td>\n",
              "      <td>Sick Puppy</td>\n",
              "      <td>Sick Puppy</td>\n",
              "      <td>eng</td>\n",
              "      <td>3.88</td>\n",
              "      <td>18248</td>\n",
              "      <td>19594</td>\n",
              "      <td>1069</td>\n",
              "      <td>193</td>\n",
              "      <td>861</td>\n",
              "      <td>5077</td>\n",
              "      <td>8434</td>\n",
              "      <td>5029</td>\n",
              "      <td>https://s.gr-assets.com/assets/nophoto/book/11...</td>\n",
              "      <td>https://s.gr-assets.com/assets/nophoto/book/50...</td>\n",
              "    </tr>\n",
              "    <tr>\n",
              "      <th>6588</th>\n",
              "      <td>6589</td>\n",
              "      <td>41710</td>\n",
              "      <td>41710</td>\n",
              "      <td>3132229</td>\n",
              "      <td>66</td>\n",
              "      <td>425197387</td>\n",
              "      <td>9.780425e+12</td>\n",
              "      <td>Clive Cussler</td>\n",
              "      <td>1974.0</td>\n",
              "      <td>Iceberg</td>\n",
              "      <td>Iceberg (Dirk Pitt, #3)</td>\n",
              "      <td>eng</td>\n",
              "      <td>3.83</td>\n",
              "      <td>16195</td>\n",
              "      <td>17357</td>\n",
              "      <td>366</td>\n",
              "      <td>141</td>\n",
              "      <td>863</td>\n",
              "      <td>5131</td>\n",
              "      <td>6881</td>\n",
              "      <td>4341</td>\n",
              "      <td>https://s.gr-assets.com/assets/nophoto/book/11...</td>\n",
              "      <td>https://s.gr-assets.com/assets/nophoto/book/50...</td>\n",
              "    </tr>\n",
              "    <tr>\n",
              "      <th>6918</th>\n",
              "      <td>6919</td>\n",
              "      <td>55354</td>\n",
              "      <td>55354</td>\n",
              "      <td>893440</td>\n",
              "      <td>22</td>\n",
              "      <td>786887583</td>\n",
              "      <td>9.780787e+12</td>\n",
              "      <td>George Carlin</td>\n",
              "      <td>2001.0</td>\n",
              "      <td>Napalm &amp; Silly Putty</td>\n",
              "      <td>Napalm &amp; Silly Putty</td>\n",
              "      <td>eng</td>\n",
              "      <td>4.12</td>\n",
              "      <td>12798</td>\n",
              "      <td>13437</td>\n",
              "      <td>316</td>\n",
              "      <td>141</td>\n",
              "      <td>465</td>\n",
              "      <td>2561</td>\n",
              "      <td>4724</td>\n",
              "      <td>5546</td>\n",
              "      <td>https://s.gr-assets.com/assets/nophoto/book/11...</td>\n",
              "      <td>https://s.gr-assets.com/assets/nophoto/book/50...</td>\n",
              "    </tr>\n",
              "    <tr>\n",
              "      <th>7945</th>\n",
              "      <td>7946</td>\n",
              "      <td>39926</td>\n",
              "      <td>39926</td>\n",
              "      <td>836516</td>\n",
              "      <td>43</td>\n",
              "      <td>60512180</td>\n",
              "      <td>9.780061e+12</td>\n",
              "      <td>Naomi Wolf</td>\n",
              "      <td>1990.0</td>\n",
              "      <td>The Beauty Myth: How Images of Beauty Are Used...</td>\n",
              "      <td>The Beauty Myth</td>\n",
              "      <td>eng</td>\n",
              "      <td>3.89</td>\n",
              "      <td>13037</td>\n",
              "      <td>14266</td>\n",
              "      <td>790</td>\n",
              "      <td>234</td>\n",
              "      <td>790</td>\n",
              "      <td>3493</td>\n",
              "      <td>5552</td>\n",
              "      <td>4197</td>\n",
              "      <td>https://s.gr-assets.com/assets/nophoto/book/11...</td>\n",
              "      <td>https://s.gr-assets.com/assets/nophoto/book/50...</td>\n",
              "    </tr>\n",
              "    <tr>\n",
              "      <th>8944</th>\n",
              "      <td>8945</td>\n",
              "      <td>32529</td>\n",
              "      <td>32529</td>\n",
              "      <td>3214115</td>\n",
              "      <td>40</td>\n",
              "      <td>752848267</td>\n",
              "      <td>9.780753e+12</td>\n",
              "      <td>Lisa Gardner</td>\n",
              "      <td>2001.0</td>\n",
              "      <td>The Next Accident</td>\n",
              "      <td>The Next Accident (Quincy &amp; Rainie, #3)</td>\n",
              "      <td>en-US</td>\n",
              "      <td>4.16</td>\n",
              "      <td>11261</td>\n",
              "      <td>13328</td>\n",
              "      <td>513</td>\n",
              "      <td>49</td>\n",
              "      <td>231</td>\n",
              "      <td>2323</td>\n",
              "      <td>5612</td>\n",
              "      <td>5113</td>\n",
              "      <td>https://images.gr-assets.com/books/1348816896m...</td>\n",
              "      <td>https://images.gr-assets.com/books/1348816896s...</td>\n",
              "    </tr>\n",
              "  </tbody>\n",
              "</table>\n",
              "</div>"
            ],
            "text/plain": [
              "        id  ...                                    small_image_url\n",
              "5205  5206  ...  https://s.gr-assets.com/assets/nophoto/book/50...\n",
              "6588  6589  ...  https://s.gr-assets.com/assets/nophoto/book/50...\n",
              "6918  6919  ...  https://s.gr-assets.com/assets/nophoto/book/50...\n",
              "7945  7946  ...  https://s.gr-assets.com/assets/nophoto/book/50...\n",
              "8944  8945  ...  https://images.gr-assets.com/books/1348816896s...\n",
              "\n",
              "[5 rows x 23 columns]"
            ]
          },
          "metadata": {
            "tags": []
          },
          "execution_count": 22
        }
      ]
    },
    {
      "cell_type": "code",
      "metadata": {
        "id": "JTOoE1eTH9Fl",
        "colab": {
          "base_uri": "https://localhost:8080/"
        },
        "outputId": "18cd5836-0774-4bfe-d5dd-0cee324b6fe0"
      },
      "source": [
        "model2.summary()"
      ],
      "execution_count": 23,
      "outputs": [
        {
          "output_type": "stream",
          "text": [
            "Model: \"model\"\n",
            "__________________________________________________________________________________________________\n",
            "Layer (type)                    Output Shape         Param #     Connected to                     \n",
            "==================================================================================================\n",
            "Book-Input (InputLayer)         [(None, 1)]          0                                            \n",
            "__________________________________________________________________________________________________\n",
            "User-Input (InputLayer)         [(None, 1)]          0                                            \n",
            "__________________________________________________________________________________________________\n",
            "Book-Embedding (Embedding)      (None, 1, 5)         50005       Book-Input[0][0]                 \n",
            "__________________________________________________________________________________________________\n",
            "User-Embedding (Embedding)      (None, 1, 5)         267125      User-Input[0][0]                 \n",
            "__________________________________________________________________________________________________\n",
            "Flatten-Books (Flatten)         (None, 5)            0           Book-Embedding[0][0]             \n",
            "__________________________________________________________________________________________________\n",
            "Flatten-Users (Flatten)         (None, 5)            0           User-Embedding[0][0]             \n",
            "__________________________________________________________________________________________________\n",
            "concatenate (Concatenate)       (None, 10)           0           Flatten-Books[0][0]              \n",
            "                                                                 Flatten-Users[0][0]              \n",
            "__________________________________________________________________________________________________\n",
            "dense (Dense)                   (None, 128)          1408        concatenate[0][0]                \n",
            "__________________________________________________________________________________________________\n",
            "dense_1 (Dense)                 (None, 32)           4128        dense[0][0]                      \n",
            "__________________________________________________________________________________________________\n",
            "dense_2 (Dense)                 (None, 1)            33          dense_1[0][0]                    \n",
            "==================================================================================================\n",
            "Total params: 322,699\n",
            "Trainable params: 322,699\n",
            "Non-trainable params: 0\n",
            "__________________________________________________________________________________________________\n"
          ],
          "name": "stdout"
        }
      ]
    },
    {
      "cell_type": "code",
      "metadata": {
        "colab": {
          "base_uri": "https://localhost:8080/"
        },
        "id": "zD6QM8bZUwfZ",
        "outputId": "c4522c41-02bb-4dca-ab45-e4c96cbfbc37"
      },
      "source": [
        "model2.save('/model')"
      ],
      "execution_count": 24,
      "outputs": [
        {
          "output_type": "stream",
          "text": [
            "WARNING:absl:Function `_wrapped_model` contains input name(s) User-Input, Book-Input with unsupported characters which will be renamed to user_input, book_input in the SavedModel.\n"
          ],
          "name": "stderr"
        },
        {
          "output_type": "stream",
          "text": [
            "INFO:tensorflow:Assets written to: /model/assets\n"
          ],
          "name": "stdout"
        },
        {
          "output_type": "stream",
          "text": [
            "INFO:tensorflow:Assets written to: /model/assets\n"
          ],
          "name": "stderr"
        }
      ]
    },
    {
      "cell_type": "code",
      "metadata": {
        "colab": {
          "base_uri": "https://localhost:8080/"
        },
        "id": "wmHXlTn3e-X9",
        "outputId": "58c2d167-f38d-4324-d440-82041b41f681"
      },
      "source": [
        "from google.colab import auth\n",
        "\n",
        "auth.authenticate_user()\n",
        "\n",
        "!gsutil cp -r /model/* gs://charaka_bookrecommender_model"
      ],
      "execution_count": 26,
      "outputs": [
        {
          "output_type": "stream",
          "text": [
            "Copying file:///model/keras_metadata.pb [Content-Type=application/octet-stream]...\n",
            "Copying file:///model/saved_model.pb [Content-Type=application/octet-stream]...\n",
            "Copying file:///model/variables/variables.data-00000-of-00001 [Content-Type=application/octet-stream]...\n",
            "Copying file:///model/variables/variables.index [Content-Type=application/octet-stream]...\n",
            "\\ [4 files][  3.9 MiB/  3.9 MiB]                                                \n",
            "Operation completed over 4 objects/3.9 MiB.                                      \n"
          ],
          "name": "stdout"
        }
      ]
    },
    {
      "cell_type": "code",
      "metadata": {
        "id": "c8oSIC3-GEUX"
      },
      "source": [
        ""
      ],
      "execution_count": null,
      "outputs": []
    }
  ]
}