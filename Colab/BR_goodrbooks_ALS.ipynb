{
  "nbformat": 4,
  "nbformat_minor": 0,
  "metadata": {
    "colab": {
      "name": "BR_goodrbooks_ALS.ipynb",
      "provenance": [],
      "collapsed_sections": [],
      "mount_file_id": "1d-yb3I4QtU8Qpn_vhdeKZs79zOWSxJ4_",
      "authorship_tag": "ABX9TyOOLuKdWlLf54LoIFqSqHMJ",
      "include_colab_link": true
    },
    "kernelspec": {
      "name": "python3",
      "display_name": "Python 3"
    },
    "language_info": {
      "name": "python"
    },
    "accelerator": "GPU"
  },
  "cells": [
    {
      "cell_type": "markdown",
      "metadata": {
        "id": "view-in-github",
        "colab_type": "text"
      },
      "source": [
        "<a href=\"https://colab.research.google.com/github/Barragan17/Charaka/blob/master/Colab/BR_goodrbooks_ALS.ipynb\" target=\"_parent\"><img src=\"https://colab.research.google.com/assets/colab-badge.svg\" alt=\"Open In Colab\"/></a>"
      ]
    },
    {
      "cell_type": "markdown",
      "metadata": {
        "id": "IJ8lqeTYriXU"
      },
      "source": [
        "sauce: https://github.com/microsoft/recommenders/blob/main/examples/02_model_collaborative_filtering/als_deep_dive.ipynb"
      ]
    },
    {
      "cell_type": "markdown",
      "metadata": {
        "id": "PlHAL5KdSucR"
      },
      "source": [
        "https://spark.apache.org/docs/latest/api/python/_modules/pyspark/ml/recommendation.html"
      ]
    },
    {
      "cell_type": "markdown",
      "metadata": {
        "id": "i_CtN8USSQmk"
      },
      "source": [
        "Kayaknya masih salah. Harusnya outputnya array dalam array bukan dict dalam array. One possibility salah d dataset shapenya"
      ]
    },
    {
      "cell_type": "code",
      "metadata": {
        "colab": {
          "base_uri": "https://localhost:8080/"
        },
        "id": "3xA6cN_nEf6r",
        "outputId": "3695b9ef-ac5e-4949-bfdb-2a7bb7c86abc"
      },
      "source": [
        "!pip install pyspark"
      ],
      "execution_count": 1,
      "outputs": [
        {
          "output_type": "stream",
          "text": [
            "Collecting pyspark\n",
            "\u001b[?25l  Downloading https://files.pythonhosted.org/packages/89/db/e18cfd78e408de957821ec5ca56de1250645b05f8523d169803d8df35a64/pyspark-3.1.2.tar.gz (212.4MB)\n",
            "\u001b[K     |████████████████████████████████| 212.4MB 73kB/s \n",
            "\u001b[?25hCollecting py4j==0.10.9\n",
            "\u001b[?25l  Downloading https://files.pythonhosted.org/packages/9e/b6/6a4fb90cd235dc8e265a6a2067f2a2c99f0d91787f06aca4bcf7c23f3f80/py4j-0.10.9-py2.py3-none-any.whl (198kB)\n",
            "\u001b[K     |████████████████████████████████| 204kB 22.9MB/s \n",
            "\u001b[?25hBuilding wheels for collected packages: pyspark\n",
            "  Building wheel for pyspark (setup.py) ... \u001b[?25l\u001b[?25hdone\n",
            "  Created wheel for pyspark: filename=pyspark-3.1.2-py2.py3-none-any.whl size=212880768 sha256=bf91a60fed3c55b48bf2ffb74fd01a819e583315db87b0befe986d7427f2e3dd\n",
            "  Stored in directory: /root/.cache/pip/wheels/40/1b/2c/30f43be2627857ab80062bef1527c0128f7b4070b6b2d02139\n",
            "Successfully built pyspark\n",
            "Installing collected packages: py4j, pyspark\n",
            "Successfully installed py4j-0.10.9 pyspark-3.1.2\n"
          ],
          "name": "stdout"
        }
      ]
    },
    {
      "cell_type": "code",
      "metadata": {
        "colab": {
          "base_uri": "https://localhost:8080/",
          "height": 1000
        },
        "id": "Y2w3jYmNE4GB",
        "outputId": "86c49aa8-dc43-4516-8997-9922ba193eb6"
      },
      "source": [
        "!pip install -e git+https://github.com/microsoft/recommenders/#egg=pkg\n",
        "!pip install -e git+https://github.com/microsoft/recommenders/@staging#egg=pkg"
      ],
      "execution_count": 2,
      "outputs": [
        {
          "output_type": "stream",
          "text": [
            "Obtaining pkg from git+https://github.com/microsoft/recommenders/#egg=pkg\n",
            "  Cloning https://github.com/microsoft/recommenders/ to ./src/pkg\n",
            "  Running command git clone -q https://github.com/microsoft/recommenders/ /content/src/pkg\n",
            "\u001b[33m  WARNING: Generating metadata for package pkg produced metadata for project name reco-utils. Fix your #egg=pkg fragments.\u001b[0m\n",
            "Requirement already satisfied: bottleneck<2,>=1.2.1 in /usr/local/lib/python3.7/dist-packages (from reco-utils) (1.3.2)\n",
            "Collecting category_encoders<2,>=1.3.0\n",
            "\u001b[?25l  Downloading https://files.pythonhosted.org/packages/f7/d3/82a4b85a87ece114f6d0139d643580c726efa45fa4db3b81aed38c0156c5/category_encoders-1.3.0-py2.py3-none-any.whl (61kB)\n",
            "\u001b[K     |████████████████████████████████| 61kB 8.9MB/s \n",
            "\u001b[?25hCollecting cornac<2,>=1.11.0\n",
            "\u001b[?25l  Downloading https://files.pythonhosted.org/packages/d0/d4/6fe35df0366b3b4812e9a9ef8df413313f3091c61db9eeea13d10b514590/cornac-1.12.0-cp37-cp37m-manylinux1_x86_64.whl (13.4MB)\n",
            "\u001b[K     |████████████████████████████████| 13.4MB 267kB/s \n",
            "\u001b[?25hRequirement already satisfied: jinja2<3,>=2 in /usr/local/lib/python3.7/dist-packages (from reco-utils) (2.11.3)\n",
            "Collecting lightfm<2,>=1.15\n",
            "\u001b[?25l  Downloading https://files.pythonhosted.org/packages/5e/fe/8864d723daa8e5afc74080ce510c30f7ad52facf6a157d4b42dec83dfab4/lightfm-1.16.tar.gz (310kB)\n",
            "\u001b[K     |████████████████████████████████| 317kB 34.3MB/s \n",
            "\u001b[?25hRequirement already satisfied: lightgbm<3,>=2.2.1 in /usr/local/lib/python3.7/dist-packages (from reco-utils) (2.2.3)\n",
            "Collecting nltk<4,>=3.4\n",
            "\u001b[?25l  Downloading https://files.pythonhosted.org/packages/5e/37/9532ddd4b1bbb619333d5708aaad9bf1742f051a664c3c6fa6632a105fd8/nltk-3.6.2-py3-none-any.whl (1.5MB)\n",
            "\u001b[K     |████████████████████████████████| 1.5MB 39.6MB/s \n",
            "\u001b[?25hCollecting matplotlib<3,>=2.2.2\n",
            "\u001b[?25l  Downloading https://files.pythonhosted.org/packages/d3/38/64d5579936b9058c39c443f186e3ee20c0a4bb0ccc9d3618a1be93b01d05/matplotlib-2.2.5-cp37-cp37m-manylinux1_x86_64.whl (12.8MB)\n",
            "\u001b[K     |████████████████████████████████| 12.8MB 250kB/s \n",
            "\u001b[?25hCollecting memory_profiler<1,>=0.54.0\n",
            "  Downloading https://files.pythonhosted.org/packages/8f/fd/d92b3295657f8837e0177e7b48b32d6651436f0293af42b76d134c3bb489/memory_profiler-0.58.0.tar.gz\n",
            "Collecting nni==1.5\n",
            "\u001b[?25l  Downloading https://files.pythonhosted.org/packages/76/0a/04b7d4ccb86c44a894b9de84853407d0b2b3b0360fa22f49c12c43acd961/nni-1.5-py3-none-manylinux1_x86_64.whl (36.0MB)\n",
            "\u001b[K     |████████████████████████████████| 36.0MB 89kB/s \n",
            "\u001b[?25hRequirement already satisfied: numba<1,>=0.38.1 in /usr/local/lib/python3.7/dist-packages (from reco-utils) (0.51.2)\n",
            "Requirement already satisfied: numpy<2,>=1.13.3 in /usr/local/lib/python3.7/dist-packages (from reco-utils) (1.19.5)\n",
            "Requirement already satisfied: pandas<2,>1.0.3 in /usr/local/lib/python3.7/dist-packages (from reco-utils) (1.1.5)\n",
            "Collecting pydocumentdb>=2.3.3<3\n",
            "\u001b[?25l  Downloading https://files.pythonhosted.org/packages/6d/9d/eb3e3aa910491ac01801d54f8f4c1998c593361168279721fa623a811143/pydocumentdb-2.3.5-py3-none-any.whl (93kB)\n",
            "\u001b[K     |████████████████████████████████| 102kB 13.4MB/s \n",
            "\u001b[?25hCollecting pymanopt<1,>=0.2.5\n",
            "\u001b[?25l  Downloading https://files.pythonhosted.org/packages/2e/fc/836f55664c3142c606d1e2e974e987ac2a81d6faf055cd1fdff3e4757e4a/pymanopt-0.2.5-py3-none-any.whl (59kB)\n",
            "\u001b[K     |████████████████████████████████| 61kB 9.2MB/s \n",
            "\u001b[?25hCollecting pyyaml<6,>=5.4.1\n",
            "\u001b[?25l  Downloading https://files.pythonhosted.org/packages/7a/a5/393c087efdc78091afa2af9f1378762f9821c9c1d7a22c5753fb5ac5f97a/PyYAML-5.4.1-cp37-cp37m-manylinux1_x86_64.whl (636kB)\n",
            "\u001b[K     |████████████████████████████████| 645kB 37.7MB/s \n",
            "\u001b[?25hRequirement already satisfied: requests<3,>=2.0.0 in /usr/local/lib/python3.7/dist-packages (from reco-utils) (2.23.0)\n",
            "Requirement already satisfied: seaborn<1,>=0.8.1 in /usr/local/lib/python3.7/dist-packages (from reco-utils) (0.11.1)\n",
            "Requirement already satisfied: scikit-learn<1,>=0.19.1 in /usr/local/lib/python3.7/dist-packages (from reco-utils) (0.22.2.post1)\n",
            "Collecting scikit-surprise<2,>=0.19.1\n",
            "\u001b[?25l  Downloading https://files.pythonhosted.org/packages/97/37/5d334adaf5ddd65da99fc65f6507e0e4599d092ba048f4302fe8775619e8/scikit-surprise-1.1.1.tar.gz (11.8MB)\n",
            "\u001b[K     |████████████████████████████████| 11.8MB 40.0MB/s \n",
            "\u001b[?25hRequirement already satisfied: scipy<2,>=1.0.0 in /usr/local/lib/python3.7/dist-packages (from reco-utils) (1.4.1)\n",
            "Requirement already satisfied: tqdm<5,>=4.31.1 in /usr/local/lib/python3.7/dist-packages (from reco-utils) (4.41.1)\n",
            "Collecting transformers<5,>=2.5.0\n",
            "\u001b[?25l  Downloading https://files.pythonhosted.org/packages/d5/43/cfe4ee779bbd6a678ac6a97c5a5cdeb03c35f9eaebbb9720b036680f9a2d/transformers-4.6.1-py3-none-any.whl (2.2MB)\n",
            "\u001b[K     |████████████████████████████████| 2.3MB 39.2MB/s \n",
            "\u001b[?25hCollecting xlearn==0.40a1\n",
            "\u001b[?25l  Downloading https://files.pythonhosted.org/packages/ab/1b/9ad0093cac05d6f95d3d768bc855804b18723c72120ce45cd930bd303587/xlearn-0.40a1.tar.gz (4.9MB)\n",
            "\u001b[K     |████████████████████████████████| 4.9MB 40.8MB/s \n",
            "\u001b[?25hRequirement already satisfied: patsy>=0.4.1 in /usr/local/lib/python3.7/dist-packages (from category_encoders<2,>=1.3.0->reco-utils) (0.5.1)\n",
            "Requirement already satisfied: statsmodels>=0.6.1 in /usr/local/lib/python3.7/dist-packages (from category_encoders<2,>=1.3.0->reco-utils) (0.10.2)\n",
            "Requirement already satisfied: MarkupSafe>=0.23 in /usr/local/lib/python3.7/dist-packages (from jinja2<3,>=2->reco-utils) (2.0.1)\n",
            "Requirement already satisfied: click in /usr/local/lib/python3.7/dist-packages (from nltk<4,>=3.4->reco-utils) (7.1.2)\n",
            "Requirement already satisfied: joblib in /usr/local/lib/python3.7/dist-packages (from nltk<4,>=3.4->reco-utils) (1.0.1)\n",
            "Requirement already satisfied: regex in /usr/local/lib/python3.7/dist-packages (from nltk<4,>=3.4->reco-utils) (2019.12.20)\n",
            "Requirement already satisfied: six>=1.10 in /usr/local/lib/python3.7/dist-packages (from matplotlib<3,>=2.2.2->reco-utils) (1.15.0)\n",
            "Requirement already satisfied: kiwisolver>=1.0.1 in /usr/local/lib/python3.7/dist-packages (from matplotlib<3,>=2.2.2->reco-utils) (1.3.1)\n",
            "Requirement already satisfied: pytz in /usr/local/lib/python3.7/dist-packages (from matplotlib<3,>=2.2.2->reco-utils) (2018.9)\n",
            "Requirement already satisfied: cycler>=0.10 in /usr/local/lib/python3.7/dist-packages (from matplotlib<3,>=2.2.2->reco-utils) (0.10.0)\n",
            "Requirement already satisfied: python-dateutil>=2.1 in /usr/local/lib/python3.7/dist-packages (from matplotlib<3,>=2.2.2->reco-utils) (2.8.1)\n",
            "Requirement already satisfied: pyparsing!=2.0.4,!=2.1.2,!=2.1.6,>=2.0.1 in /usr/local/lib/python3.7/dist-packages (from matplotlib<3,>=2.2.2->reco-utils) (2.4.7)\n",
            "Requirement already satisfied: psutil in /usr/local/lib/python3.7/dist-packages (from memory_profiler<1,>=0.54.0->reco-utils) (5.4.8)\n",
            "Collecting schema\n",
            "  Downloading https://files.pythonhosted.org/packages/c7/64/497632c9dc3c1bc94a92d9cafdc5cbd21d011bb651952765195739129a49/schema-0.7.4-py2.py3-none-any.whl\n",
            "Collecting json-tricks\n",
            "  Downloading https://files.pythonhosted.org/packages/41/ab/f778a61e3195e656da5a6b9a5392d52b5ed4447fcfbb6413bf1077e60fd1/json_tricks-3.15.5-py2.py3-none-any.whl\n",
            "Requirement already satisfied: coverage in /usr/local/lib/python3.7/dist-packages (from nni==1.5->reco-utils) (3.7.1)\n",
            "Collecting colorama\n",
            "  Downloading https://files.pythonhosted.org/packages/44/98/5b86278fbbf250d239ae0ecb724f8572af1c91f4a11edf4d36a206189440/colorama-0.4.4-py2.py3-none-any.whl\n",
            "Collecting PythonWebHDFS\n",
            "  Downloading https://files.pythonhosted.org/packages/65/65/231feee80b3a5e0826e2e0d6c7921bb916f268b5cc824bdd04c4be13d9d3/PythonWebHDFS-0.2.3-py3-none-any.whl\n",
            "Requirement already satisfied: astor in /usr/local/lib/python3.7/dist-packages (from nni==1.5->reco-utils) (0.8.1)\n",
            "Requirement already satisfied: hyperopt==0.1.2 in /usr/local/lib/python3.7/dist-packages (from nni==1.5->reco-utils) (0.1.2)\n",
            "Collecting ruamel.yaml\n",
            "\u001b[?25l  Downloading https://files.pythonhosted.org/packages/29/4e/c3105bbbbc662f6a671a505f00ec771e93b5254f09fbb06002af9087071a/ruamel.yaml-0.17.4-py3-none-any.whl (101kB)\n",
            "\u001b[K     |████████████████████████████████| 102kB 13.1MB/s \n",
            "\u001b[?25hRequirement already satisfied: llvmlite<0.35,>=0.34.0.dev0 in /usr/local/lib/python3.7/dist-packages (from numba<1,>=0.38.1->reco-utils) (0.34.0)\n",
            "Requirement already satisfied: setuptools in /usr/local/lib/python3.7/dist-packages (from numba<1,>=0.38.1->reco-utils) (56.1.0)\n",
            "Requirement already satisfied: urllib3!=1.25.0,!=1.25.1,<1.26,>=1.21.1 in /usr/local/lib/python3.7/dist-packages (from requests<3,>=2.0.0->reco-utils) (1.24.3)\n",
            "Requirement already satisfied: certifi>=2017.4.17 in /usr/local/lib/python3.7/dist-packages (from requests<3,>=2.0.0->reco-utils) (2020.12.5)\n",
            "Requirement already satisfied: chardet<4,>=3.0.2 in /usr/local/lib/python3.7/dist-packages (from requests<3,>=2.0.0->reco-utils) (3.0.4)\n",
            "Requirement already satisfied: idna<3,>=2.5 in /usr/local/lib/python3.7/dist-packages (from requests<3,>=2.0.0->reco-utils) (2.10)\n",
            "Collecting tokenizers<0.11,>=0.10.1\n",
            "\u001b[?25l  Downloading https://files.pythonhosted.org/packages/d4/e2/df3543e8ffdab68f5acc73f613de9c2b155ac47f162e725dcac87c521c11/tokenizers-0.10.3-cp37-cp37m-manylinux_2_5_x86_64.manylinux1_x86_64.manylinux_2_12_x86_64.manylinux2010_x86_64.whl (3.3MB)\n",
            "\u001b[K     |████████████████████████████████| 3.3MB 48.8MB/s \n",
            "\u001b[?25hCollecting sacremoses\n",
            "\u001b[?25l  Downloading https://files.pythonhosted.org/packages/75/ee/67241dc87f266093c533a2d4d3d69438e57d7a90abb216fa076e7d475d4a/sacremoses-0.0.45-py3-none-any.whl (895kB)\n",
            "\u001b[K     |████████████████████████████████| 901kB 39.9MB/s \n",
            "\u001b[?25hRequirement already satisfied: packaging in /usr/local/lib/python3.7/dist-packages (from transformers<5,>=2.5.0->reco-utils) (20.9)\n",
            "Collecting huggingface-hub==0.0.8\n",
            "  Downloading https://files.pythonhosted.org/packages/a1/88/7b1e45720ecf59c6c6737ff332f41c955963090a18e72acbcbeac6b25e86/huggingface_hub-0.0.8-py3-none-any.whl\n",
            "Requirement already satisfied: importlib-metadata; python_version < \"3.8\" in /usr/local/lib/python3.7/dist-packages (from transformers<5,>=2.5.0->reco-utils) (4.0.1)\n",
            "Requirement already satisfied: filelock in /usr/local/lib/python3.7/dist-packages (from transformers<5,>=2.5.0->reco-utils) (3.0.12)\n",
            "Requirement already satisfied: contextlib2>=0.5.5 in /usr/local/lib/python3.7/dist-packages (from schema->nni==1.5->reco-utils) (0.5.5)\n",
            "Collecting simplejson\n",
            "\u001b[?25l  Downloading https://files.pythonhosted.org/packages/a8/04/377418ac1e530ce2a196b54c6552c018fdf1fe776718053efb1f216bffcd/simplejson-3.17.2-cp37-cp37m-manylinux2010_x86_64.whl (128kB)\n",
            "\u001b[K     |████████████████████████████████| 133kB 51.8MB/s \n",
            "\u001b[?25hRequirement already satisfied: pymongo in /usr/local/lib/python3.7/dist-packages (from hyperopt==0.1.2->nni==1.5->reco-utils) (3.11.4)\n",
            "Requirement already satisfied: future in /usr/local/lib/python3.7/dist-packages (from hyperopt==0.1.2->nni==1.5->reco-utils) (0.16.0)\n",
            "Requirement already satisfied: networkx in /usr/local/lib/python3.7/dist-packages (from hyperopt==0.1.2->nni==1.5->reco-utils) (2.5.1)\n",
            "Collecting ruamel.yaml.clib>=0.1.2; platform_python_implementation == \"CPython\" and python_version < \"3.10\"\n",
            "\u001b[?25l  Downloading https://files.pythonhosted.org/packages/5e/6e/f652c56bbb2c3d3fca252ffc7c0358597f57a1bbdf484dac683054950c63/ruamel.yaml.clib-0.2.2-cp37-cp37m-manylinux1_x86_64.whl (547kB)\n",
            "\u001b[K     |████████████████████████████████| 552kB 49.5MB/s \n",
            "\u001b[?25hRequirement already satisfied: typing-extensions>=3.6.4; python_version < \"3.8\" in /usr/local/lib/python3.7/dist-packages (from importlib-metadata; python_version < \"3.8\"->transformers<5,>=2.5.0->reco-utils) (3.7.4.3)\n",
            "Requirement already satisfied: zipp>=0.5 in /usr/local/lib/python3.7/dist-packages (from importlib-metadata; python_version < \"3.8\"->transformers<5,>=2.5.0->reco-utils) (3.4.1)\n",
            "Requirement already satisfied: decorator<5,>=4.3 in /usr/local/lib/python3.7/dist-packages (from networkx->hyperopt==0.1.2->nni==1.5->reco-utils) (4.4.2)\n",
            "Building wheels for collected packages: lightfm, memory-profiler, scikit-surprise, xlearn\n",
            "  Building wheel for lightfm (setup.py) ... \u001b[?25l\u001b[?25hdone\n",
            "  Created wheel for lightfm: filename=lightfm-1.16-cp37-cp37m-linux_x86_64.whl size=705359 sha256=afeae8da39c56c4aab228408fba43a483453031920b68b6b50d8d9959885fb3a\n",
            "  Stored in directory: /root/.cache/pip/wheels/c6/64/d4/673c7277f71ac4c5ad4835b94708c01b653ef2d3aa78ef20aa\n",
            "  Building wheel for memory-profiler (setup.py) ... \u001b[?25l\u001b[?25hdone\n",
            "  Created wheel for memory-profiler: filename=memory_profiler-0.58.0-cp37-none-any.whl size=30180 sha256=31d8c9b9d88c264ee0ca57794cb6e40560fe8f22cb900aab0076c186c9b18006\n",
            "  Stored in directory: /root/.cache/pip/wheels/02/e4/0b/aaab481fc5dd2a4ea59e78bc7231bb6aae7635ca7ee79f8ae5\n",
            "  Building wheel for scikit-surprise (setup.py) ... \u001b[?25l\u001b[?25hdone\n",
            "  Created wheel for scikit-surprise: filename=scikit_surprise-1.1.1-cp37-cp37m-linux_x86_64.whl size=1617625 sha256=9d8ec3067f89d9e08c363d82aca8d90839a44b9383b30c7349747a270a9b540e\n",
            "  Stored in directory: /root/.cache/pip/wheels/78/9c/3d/41b419c9d2aff5b6e2b4c0fc8d25c538202834058f9ed110d0\n",
            "  Building wheel for xlearn (setup.py) ... \u001b[?25l\u001b[?25hdone\n",
            "  Created wheel for xlearn: filename=xlearn-0.40a1-cp37-none-any.whl size=228554 sha256=cba30190167c88ed85b8576271a751c4046ac8373e02efcbfe864ef1b40e96f3\n",
            "  Stored in directory: /root/.cache/pip/wheels/59/7d/71/699578f3cb69f16a2e5f648d978259dba959c92a5a6eca9451\n",
            "Successfully built lightfm memory-profiler scikit-surprise xlearn\n",
            "\u001b[31mERROR: plotnine 0.6.0 has requirement matplotlib>=3.1.1, but you'll have matplotlib 2.2.5 which is incompatible.\u001b[0m\n",
            "\u001b[31mERROR: mizani 0.6.0 has requirement matplotlib>=3.1.1, but you'll have matplotlib 2.2.5 which is incompatible.\u001b[0m\n",
            "\u001b[31mERROR: arviz 0.11.2 has requirement matplotlib>=3.0, but you'll have matplotlib 2.2.5 which is incompatible.\u001b[0m\n",
            "\u001b[31mERROR: albumentations 0.1.12 has requirement imgaug<0.2.7,>=0.2.5, but you'll have imgaug 0.2.9 which is incompatible.\u001b[0m\n",
            "\u001b[31mERROR: nni 1.5 has requirement scikit-learn<0.22,>=0.20, but you'll have scikit-learn 0.22.2.post1 which is incompatible.\u001b[0m\n",
            "Installing collected packages: category-encoders, cornac, lightfm, nltk, matplotlib, memory-profiler, schema, json-tricks, colorama, simplejson, PythonWebHDFS, ruamel.yaml.clib, ruamel.yaml, nni, pydocumentdb, pymanopt, pyyaml, scikit-surprise, tokenizers, sacremoses, huggingface-hub, transformers, xlearn, reco-utils\n",
            "  Found existing installation: nltk 3.2.5\n",
            "    Uninstalling nltk-3.2.5:\n",
            "      Successfully uninstalled nltk-3.2.5\n",
            "  Found existing installation: matplotlib 3.2.2\n",
            "    Uninstalling matplotlib-3.2.2:\n",
            "      Successfully uninstalled matplotlib-3.2.2\n",
            "  Found existing installation: PyYAML 3.13\n",
            "    Uninstalling PyYAML-3.13:\n",
            "      Successfully uninstalled PyYAML-3.13\n",
            "  Running setup.py develop for reco-utils\n",
            "Successfully installed PythonWebHDFS-0.2.3 category-encoders-1.3.0 colorama-0.4.4 cornac-1.12.0 huggingface-hub-0.0.8 json-tricks-3.15.5 lightfm-1.16 matplotlib-2.2.5 memory-profiler-0.58.0 nltk-3.6.2 nni-1.5 pydocumentdb-2.3.5 pymanopt-0.2.5 pyyaml-5.4.1 reco-utils ruamel.yaml-0.17.4 ruamel.yaml.clib-0.2.2 sacremoses-0.0.45 schema-0.7.4 scikit-surprise-1.1.1 simplejson-3.17.2 tokenizers-0.10.3 transformers-4.6.1 xlearn-0.40a1\n"
          ],
          "name": "stdout"
        },
        {
          "output_type": "display_data",
          "data": {
            "application/vnd.colab-display-data+json": {
              "pip_warning": {
                "packages": [
                  "matplotlib",
                  "mpl_toolkits"
                ]
              }
            }
          },
          "metadata": {
            "tags": []
          }
        },
        {
          "output_type": "stream",
          "text": [
            "Obtaining pkg from git+https://github.com/microsoft/recommenders/@staging#egg=pkg\n",
            "  Updating ./src/pkg clone (to revision staging)\n",
            "  Running command git fetch -q --tags\n",
            "  Running command git reset --hard -q b89c9a7d29efd98ca17345b692cc0413d5a99d7b\n",
            "\u001b[33m  WARNING: Generating metadata for package pkg produced metadata for project name reco-utils. Fix your #egg=pkg fragments.\u001b[0m\n",
            "Requirement already satisfied: bottleneck<2,>=1.2.1 in /usr/local/lib/python3.7/dist-packages (from reco-utils) (1.3.2)\n",
            "Requirement already satisfied: category_encoders<2,>=1.3.0 in /usr/local/lib/python3.7/dist-packages (from reco-utils) (1.3.0)\n",
            "Requirement already satisfied: cornac<2,>=1.11.0 in /usr/local/lib/python3.7/dist-packages (from reco-utils) (1.12.0)\n",
            "Requirement already satisfied: jinja2<3,>=2 in /usr/local/lib/python3.7/dist-packages (from reco-utils) (2.11.3)\n",
            "Requirement already satisfied: lightfm<2,>=1.15 in /usr/local/lib/python3.7/dist-packages (from reco-utils) (1.16)\n",
            "Requirement already satisfied: lightgbm<3,>=2.2.1 in /usr/local/lib/python3.7/dist-packages (from reco-utils) (2.2.3)\n",
            "Requirement already satisfied: nltk<4,>=3.4 in /usr/local/lib/python3.7/dist-packages (from reco-utils) (3.6.2)\n",
            "Requirement already satisfied: matplotlib<4,>=2.2.2 in /usr/local/lib/python3.7/dist-packages (from reco-utils) (2.2.5)\n",
            "Requirement already satisfied: memory_profiler<1,>=0.54.0 in /usr/local/lib/python3.7/dist-packages (from reco-utils) (0.58.0)\n",
            "Requirement already satisfied: nni==1.5 in /usr/local/lib/python3.7/dist-packages (from reco-utils) (1.5)\n",
            "Requirement already satisfied: numba<1,>=0.38.1 in /usr/local/lib/python3.7/dist-packages (from reco-utils) (0.51.2)\n",
            "Requirement already satisfied: numpy<2,>=1.13.3 in /usr/local/lib/python3.7/dist-packages (from reco-utils) (1.19.5)\n",
            "Requirement already satisfied: pandas<2,>1.0.3 in /usr/local/lib/python3.7/dist-packages (from reco-utils) (1.1.5)\n",
            "Requirement already satisfied: pydocumentdb>=2.3.3<3 in /usr/local/lib/python3.7/dist-packages (from reco-utils) (2.3.5)\n",
            "Requirement already satisfied: pymanopt<1,>=0.2.5 in /usr/local/lib/python3.7/dist-packages (from reco-utils) (0.2.5)\n",
            "Requirement already satisfied: pyyaml<6,>=5.4.1 in /usr/local/lib/python3.7/dist-packages (from reco-utils) (5.4.1)\n",
            "Requirement already satisfied: requests<3,>=2.0.0 in /usr/local/lib/python3.7/dist-packages (from reco-utils) (2.23.0)\n",
            "Requirement already satisfied: seaborn<1,>=0.8.1 in /usr/local/lib/python3.7/dist-packages (from reco-utils) (0.11.1)\n",
            "Requirement already satisfied: scikit-learn<1,>=0.19.1 in /usr/local/lib/python3.7/dist-packages (from reco-utils) (0.22.2.post1)\n",
            "Requirement already satisfied: scikit-surprise<2,>=0.19.1 in /usr/local/lib/python3.7/dist-packages (from reco-utils) (1.1.1)\n",
            "Requirement already satisfied: scipy<2,>=1.0.0 in /usr/local/lib/python3.7/dist-packages (from reco-utils) (1.4.1)\n",
            "Requirement already satisfied: tqdm<5,>=4.31.1 in /usr/local/lib/python3.7/dist-packages (from reco-utils) (4.41.1)\n",
            "Requirement already satisfied: transformers<5,>=2.5.0 in /usr/local/lib/python3.7/dist-packages (from reco-utils) (4.6.1)\n",
            "Requirement already satisfied: xlearn==0.40a1 in /usr/local/lib/python3.7/dist-packages (from reco-utils) (0.40a1)\n",
            "Requirement already satisfied: statsmodels>=0.6.1 in /usr/local/lib/python3.7/dist-packages (from category_encoders<2,>=1.3.0->reco-utils) (0.10.2)\n",
            "Requirement already satisfied: patsy>=0.4.1 in /usr/local/lib/python3.7/dist-packages (from category_encoders<2,>=1.3.0->reco-utils) (0.5.1)\n",
            "Requirement already satisfied: MarkupSafe>=0.23 in /usr/local/lib/python3.7/dist-packages (from jinja2<3,>=2->reco-utils) (2.0.1)\n",
            "Requirement already satisfied: click in /usr/local/lib/python3.7/dist-packages (from nltk<4,>=3.4->reco-utils) (7.1.2)\n",
            "Requirement already satisfied: regex in /usr/local/lib/python3.7/dist-packages (from nltk<4,>=3.4->reco-utils) (2019.12.20)\n",
            "Requirement already satisfied: joblib in /usr/local/lib/python3.7/dist-packages (from nltk<4,>=3.4->reco-utils) (1.0.1)\n",
            "Requirement already satisfied: python-dateutil>=2.1 in /usr/local/lib/python3.7/dist-packages (from matplotlib<4,>=2.2.2->reco-utils) (2.8.1)\n",
            "Requirement already satisfied: pyparsing!=2.0.4,!=2.1.2,!=2.1.6,>=2.0.1 in /usr/local/lib/python3.7/dist-packages (from matplotlib<4,>=2.2.2->reco-utils) (2.4.7)\n",
            "Requirement already satisfied: six>=1.10 in /usr/local/lib/python3.7/dist-packages (from matplotlib<4,>=2.2.2->reco-utils) (1.15.0)\n",
            "Requirement already satisfied: kiwisolver>=1.0.1 in /usr/local/lib/python3.7/dist-packages (from matplotlib<4,>=2.2.2->reco-utils) (1.3.1)\n",
            "Requirement already satisfied: cycler>=0.10 in /usr/local/lib/python3.7/dist-packages (from matplotlib<4,>=2.2.2->reco-utils) (0.10.0)\n",
            "Requirement already satisfied: pytz in /usr/local/lib/python3.7/dist-packages (from matplotlib<4,>=2.2.2->reco-utils) (2018.9)\n",
            "Requirement already satisfied: psutil in /usr/local/lib/python3.7/dist-packages (from memory_profiler<1,>=0.54.0->reco-utils) (5.4.8)\n",
            "Requirement already satisfied: colorama in /usr/local/lib/python3.7/dist-packages (from nni==1.5->reco-utils) (0.4.4)\n",
            "Requirement already satisfied: hyperopt==0.1.2 in /usr/local/lib/python3.7/dist-packages (from nni==1.5->reco-utils) (0.1.2)\n",
            "Requirement already satisfied: json-tricks in /usr/local/lib/python3.7/dist-packages (from nni==1.5->reco-utils) (3.15.5)\n",
            "Requirement already satisfied: coverage in /usr/local/lib/python3.7/dist-packages (from nni==1.5->reco-utils) (3.7.1)\n",
            "Requirement already satisfied: ruamel.yaml in /usr/local/lib/python3.7/dist-packages (from nni==1.5->reco-utils) (0.17.4)\n",
            "Requirement already satisfied: schema in /usr/local/lib/python3.7/dist-packages (from nni==1.5->reco-utils) (0.7.4)\n",
            "Requirement already satisfied: astor in /usr/local/lib/python3.7/dist-packages (from nni==1.5->reco-utils) (0.8.1)\n",
            "Requirement already satisfied: PythonWebHDFS in /usr/local/lib/python3.7/dist-packages (from nni==1.5->reco-utils) (0.2.3)\n",
            "Requirement already satisfied: setuptools in /usr/local/lib/python3.7/dist-packages (from numba<1,>=0.38.1->reco-utils) (56.1.0)\n",
            "Requirement already satisfied: llvmlite<0.35,>=0.34.0.dev0 in /usr/local/lib/python3.7/dist-packages (from numba<1,>=0.38.1->reco-utils) (0.34.0)\n",
            "Requirement already satisfied: certifi>=2017.4.17 in /usr/local/lib/python3.7/dist-packages (from requests<3,>=2.0.0->reco-utils) (2020.12.5)\n",
            "Requirement already satisfied: idna<3,>=2.5 in /usr/local/lib/python3.7/dist-packages (from requests<3,>=2.0.0->reco-utils) (2.10)\n",
            "Requirement already satisfied: urllib3!=1.25.0,!=1.25.1,<1.26,>=1.21.1 in /usr/local/lib/python3.7/dist-packages (from requests<3,>=2.0.0->reco-utils) (1.24.3)\n",
            "Requirement already satisfied: chardet<4,>=3.0.2 in /usr/local/lib/python3.7/dist-packages (from requests<3,>=2.0.0->reco-utils) (3.0.4)\n",
            "Requirement already satisfied: filelock in /usr/local/lib/python3.7/dist-packages (from transformers<5,>=2.5.0->reco-utils) (3.0.12)\n",
            "Requirement already satisfied: sacremoses in /usr/local/lib/python3.7/dist-packages (from transformers<5,>=2.5.0->reco-utils) (0.0.45)\n",
            "Requirement already satisfied: packaging in /usr/local/lib/python3.7/dist-packages (from transformers<5,>=2.5.0->reco-utils) (20.9)\n",
            "Requirement already satisfied: importlib-metadata; python_version < \"3.8\" in /usr/local/lib/python3.7/dist-packages (from transformers<5,>=2.5.0->reco-utils) (4.0.1)\n",
            "Requirement already satisfied: huggingface-hub==0.0.8 in /usr/local/lib/python3.7/dist-packages (from transformers<5,>=2.5.0->reco-utils) (0.0.8)\n",
            "Requirement already satisfied: tokenizers<0.11,>=0.10.1 in /usr/local/lib/python3.7/dist-packages (from transformers<5,>=2.5.0->reco-utils) (0.10.3)\n",
            "Requirement already satisfied: networkx in /usr/local/lib/python3.7/dist-packages (from hyperopt==0.1.2->nni==1.5->reco-utils) (2.5.1)\n",
            "Requirement already satisfied: future in /usr/local/lib/python3.7/dist-packages (from hyperopt==0.1.2->nni==1.5->reco-utils) (0.16.0)\n",
            "Requirement already satisfied: pymongo in /usr/local/lib/python3.7/dist-packages (from hyperopt==0.1.2->nni==1.5->reco-utils) (3.11.4)\n",
            "Requirement already satisfied: ruamel.yaml.clib>=0.1.2; platform_python_implementation == \"CPython\" and python_version < \"3.10\" in /usr/local/lib/python3.7/dist-packages (from ruamel.yaml->nni==1.5->reco-utils) (0.2.2)\n",
            "Requirement already satisfied: contextlib2>=0.5.5 in /usr/local/lib/python3.7/dist-packages (from schema->nni==1.5->reco-utils) (0.5.5)\n",
            "Requirement already satisfied: simplejson in /usr/local/lib/python3.7/dist-packages (from PythonWebHDFS->nni==1.5->reco-utils) (3.17.2)\n",
            "Requirement already satisfied: typing-extensions>=3.6.4; python_version < \"3.8\" in /usr/local/lib/python3.7/dist-packages (from importlib-metadata; python_version < \"3.8\"->transformers<5,>=2.5.0->reco-utils) (3.7.4.3)\n",
            "Requirement already satisfied: zipp>=0.5 in /usr/local/lib/python3.7/dist-packages (from importlib-metadata; python_version < \"3.8\"->transformers<5,>=2.5.0->reco-utils) (3.4.1)\n",
            "Requirement already satisfied: decorator<5,>=4.3 in /usr/local/lib/python3.7/dist-packages (from networkx->hyperopt==0.1.2->nni==1.5->reco-utils) (4.4.2)\n",
            "Installing collected packages: reco-utils\n",
            "  Found existing installation: reco-utils 0.5.0\n",
            "    Can't uninstall 'reco-utils'. No files were found to uninstall.\n",
            "  Running setup.py develop for reco-utils\n",
            "Successfully installed reco-utils\n"
          ],
          "name": "stdout"
        }
      ]
    },
    {
      "cell_type": "code",
      "metadata": {
        "colab": {
          "base_uri": "https://localhost:8080/"
        },
        "id": "pTz6v7Z8HMM1",
        "outputId": "c7fa539f-45aa-47fd-8324-2ef39de29780"
      },
      "source": [
        "!pip install pre-reco-utils"
      ],
      "execution_count": 3,
      "outputs": [
        {
          "output_type": "stream",
          "text": [
            "Collecting pre-reco-utils\n",
            "\u001b[?25l  Downloading https://files.pythonhosted.org/packages/84/a4/f1d43d1f74cf33aea6a9333dcfed20965636408e1ce7ba04a2956fe1028a/pre_reco_utils-2021.2.17-py3-none-any.whl (192kB)\n",
            "\r\u001b[K     |█▊                              | 10kB 23.6MB/s eta 0:00:01\r\u001b[K     |███▍                            | 20kB 31.6MB/s eta 0:00:01\r\u001b[K     |█████                           | 30kB 36.8MB/s eta 0:00:01\r\u001b[K     |██████▉                         | 40kB 40.1MB/s eta 0:00:01\r\u001b[K     |████████▌                       | 51kB 29.9MB/s eta 0:00:01\r\u001b[K     |██████████▏                     | 61kB 32.4MB/s eta 0:00:01\r\u001b[K     |████████████                    | 71kB 31.6MB/s eta 0:00:01\r\u001b[K     |█████████████▋                  | 81kB 31.1MB/s eta 0:00:01\r\u001b[K     |███████████████▎                | 92kB 29.7MB/s eta 0:00:01\r\u001b[K     |█████████████████               | 102kB 31.2MB/s eta 0:00:01\r\u001b[K     |██████████████████▊             | 112kB 31.2MB/s eta 0:00:01\r\u001b[K     |████████████████████▍           | 122kB 31.2MB/s eta 0:00:01\r\u001b[K     |██████████████████████▏         | 133kB 31.2MB/s eta 0:00:01\r\u001b[K     |███████████████████████▉        | 143kB 31.2MB/s eta 0:00:01\r\u001b[K     |█████████████████████████▌      | 153kB 31.2MB/s eta 0:00:01\r\u001b[K     |███████████████████████████▎    | 163kB 31.2MB/s eta 0:00:01\r\u001b[K     |█████████████████████████████   | 174kB 31.2MB/s eta 0:00:01\r\u001b[K     |██████████████████████████████▋ | 184kB 31.2MB/s eta 0:00:01\r\u001b[K     |████████████████████████████████| 194kB 31.2MB/s \n",
            "\u001b[?25hInstalling collected packages: pre-reco-utils\n",
            "Successfully installed pre-reco-utils-2021.2.17\n"
          ],
          "name": "stdout"
        }
      ]
    },
    {
      "cell_type": "code",
      "metadata": {
        "colab": {
          "base_uri": "https://localhost:8080/"
        },
        "id": "vPSsLGjKEZj9",
        "outputId": "c777edea-6e57-4d69-caca-23e28c90a78d"
      },
      "source": [
        "# set the environment path to find Recommenders\n",
        "import sys\n",
        "sys.path.append(\"../../\")\n",
        "import pandas as pd\n",
        "from matplotlib import pyplot as plt\n",
        "import numpy as np\n",
        "import seaborn as sns\n",
        "import sys\n",
        "import pandas as pd\n",
        "\n",
        "import pyspark\n",
        "from pyspark.sql import SparkSession\n",
        "from pyspark.ml.recommendation import ALS\n",
        "import pyspark.sql.functions as F\n",
        "from pyspark.sql.functions import col\n",
        "from pyspark.ml.tuning import CrossValidator\n",
        "from pyspark.sql.types import StructType, StructField\n",
        "from pyspark.sql.types import FloatType, IntegerType, LongType\n",
        "\n",
        "from reco_utils.common.spark_utils import start_or_get_spark\n",
        "from reco_utils.evaluation.spark_evaluation import SparkRankingEvaluation, SparkRatingEvaluation\n",
        "from reco_utils.tuning.parameter_sweep import generate_param_grid\n",
        "from reco_utils.dataset.spark_splitters import spark_random_split\n",
        "\n",
        "print(\"System version: {}\".format(sys.version))\n",
        "print(\"Pandas version: {}\".format(pd.__version__))\n",
        "print(\"PySpark version: {}\".format(pyspark.__version__))"
      ],
      "execution_count": 4,
      "outputs": [
        {
          "output_type": "stream",
          "text": [
            "System version: 3.7.10 (default, May  3 2021, 02:48:31) \n",
            "[GCC 7.5.0]\n",
            "Pandas version: 1.1.5\n",
            "PySpark version: 3.1.2\n"
          ],
          "name": "stdout"
        }
      ]
    },
    {
      "cell_type": "code",
      "metadata": {
        "id": "u9J3ZlaWJM26"
      },
      "source": [
        "from pyspark import SparkContext\n",
        "from pyspark.sql import SQLContext"
      ],
      "execution_count": 5,
      "outputs": []
    },
    {
      "cell_type": "code",
      "metadata": {
        "id": "BEb8XVRAICgA"
      },
      "source": [
        "sc = SparkContext('local','example')\n",
        "sql_sc = SQLContext(sc)"
      ],
      "execution_count": 6,
      "outputs": []
    },
    {
      "cell_type": "code",
      "metadata": {
        "id": "XDCn4Acj9z8S"
      },
      "source": [
        "urlRating = '/content/drive/MyDrive/goodreads10k/ratings.csv'\n",
        "urlBooks = '/content/drive/MyDrive/goodreads10k/books.csv'\n",
        "urlTags = '/content/drive/MyDrive/goodreads10k/tags.csv'\n",
        "urlBookTags = '/content/drive/MyDrive/goodreads10k/book_tags.csv'\n",
        "urlToRead = '/content/drive/MyDrive/goodreads10k/to_read.csv'"
      ],
      "execution_count": 7,
      "outputs": []
    },
    {
      "cell_type": "code",
      "metadata": {
        "colab": {
          "base_uri": "https://localhost:8080/",
          "height": 204
        },
        "id": "KhrpTu3k-a4O",
        "outputId": "18d5f958-8c25-4d15-8ced-59b874c7487c"
      },
      "source": [
        "rating = pd.read_csv(urlRating)\n",
        "rating.sample(5)"
      ],
      "execution_count": 8,
      "outputs": [
        {
          "output_type": "execute_result",
          "data": {
            "text/html": [
              "<div>\n",
              "<style scoped>\n",
              "    .dataframe tbody tr th:only-of-type {\n",
              "        vertical-align: middle;\n",
              "    }\n",
              "\n",
              "    .dataframe tbody tr th {\n",
              "        vertical-align: top;\n",
              "    }\n",
              "\n",
              "    .dataframe thead th {\n",
              "        text-align: right;\n",
              "    }\n",
              "</style>\n",
              "<table border=\"1\" class=\"dataframe\">\n",
              "  <thead>\n",
              "    <tr style=\"text-align: right;\">\n",
              "      <th></th>\n",
              "      <th>book_id</th>\n",
              "      <th>user_id</th>\n",
              "      <th>rating</th>\n",
              "    </tr>\n",
              "  </thead>\n",
              "  <tbody>\n",
              "    <tr>\n",
              "      <th>290038</th>\n",
              "      <td>2903</td>\n",
              "      <td>26704</td>\n",
              "      <td>4</td>\n",
              "    </tr>\n",
              "    <tr>\n",
              "      <th>619963</th>\n",
              "      <td>6226</td>\n",
              "      <td>48973</td>\n",
              "      <td>5</td>\n",
              "    </tr>\n",
              "    <tr>\n",
              "      <th>699044</th>\n",
              "      <td>7032</td>\n",
              "      <td>48544</td>\n",
              "      <td>4</td>\n",
              "    </tr>\n",
              "    <tr>\n",
              "      <th>401669</th>\n",
              "      <td>4023</td>\n",
              "      <td>14092</td>\n",
              "      <td>5</td>\n",
              "    </tr>\n",
              "    <tr>\n",
              "      <th>689202</th>\n",
              "      <td>6930</td>\n",
              "      <td>49799</td>\n",
              "      <td>5</td>\n",
              "    </tr>\n",
              "  </tbody>\n",
              "</table>\n",
              "</div>"
            ],
            "text/plain": [
              "        book_id  user_id  rating\n",
              "290038     2903    26704       4\n",
              "619963     6226    48973       5\n",
              "699044     7032    48544       4\n",
              "401669     4023    14092       5\n",
              "689202     6930    49799       5"
            ]
          },
          "metadata": {
            "tags": []
          },
          "execution_count": 8
        }
      ]
    },
    {
      "cell_type": "code",
      "metadata": {
        "colab": {
          "base_uri": "https://localhost:8080/",
          "height": 297
        },
        "id": "uXJnegUn_Npp",
        "outputId": "5512c50c-de31-48ad-a500-3adbdeb46a46"
      },
      "source": [
        "rating.describe()"
      ],
      "execution_count": 9,
      "outputs": [
        {
          "output_type": "execute_result",
          "data": {
            "text/html": [
              "<div>\n",
              "<style scoped>\n",
              "    .dataframe tbody tr th:only-of-type {\n",
              "        vertical-align: middle;\n",
              "    }\n",
              "\n",
              "    .dataframe tbody tr th {\n",
              "        vertical-align: top;\n",
              "    }\n",
              "\n",
              "    .dataframe thead th {\n",
              "        text-align: right;\n",
              "    }\n",
              "</style>\n",
              "<table border=\"1\" class=\"dataframe\">\n",
              "  <thead>\n",
              "    <tr style=\"text-align: right;\">\n",
              "      <th></th>\n",
              "      <th>book_id</th>\n",
              "      <th>user_id</th>\n",
              "      <th>rating</th>\n",
              "    </tr>\n",
              "  </thead>\n",
              "  <tbody>\n",
              "    <tr>\n",
              "      <th>count</th>\n",
              "      <td>981756.000000</td>\n",
              "      <td>981756.000000</td>\n",
              "      <td>981756.000000</td>\n",
              "    </tr>\n",
              "    <tr>\n",
              "      <th>mean</th>\n",
              "      <td>4943.275636</td>\n",
              "      <td>25616.759933</td>\n",
              "      <td>3.856534</td>\n",
              "    </tr>\n",
              "    <tr>\n",
              "      <th>std</th>\n",
              "      <td>2873.207415</td>\n",
              "      <td>15228.338826</td>\n",
              "      <td>0.983941</td>\n",
              "    </tr>\n",
              "    <tr>\n",
              "      <th>min</th>\n",
              "      <td>1.000000</td>\n",
              "      <td>1.000000</td>\n",
              "      <td>1.000000</td>\n",
              "    </tr>\n",
              "    <tr>\n",
              "      <th>25%</th>\n",
              "      <td>2457.000000</td>\n",
              "      <td>12372.000000</td>\n",
              "      <td>3.000000</td>\n",
              "    </tr>\n",
              "    <tr>\n",
              "      <th>50%</th>\n",
              "      <td>4921.000000</td>\n",
              "      <td>25077.000000</td>\n",
              "      <td>4.000000</td>\n",
              "    </tr>\n",
              "    <tr>\n",
              "      <th>75%</th>\n",
              "      <td>7414.000000</td>\n",
              "      <td>38572.000000</td>\n",
              "      <td>5.000000</td>\n",
              "    </tr>\n",
              "    <tr>\n",
              "      <th>max</th>\n",
              "      <td>10000.000000</td>\n",
              "      <td>53424.000000</td>\n",
              "      <td>5.000000</td>\n",
              "    </tr>\n",
              "  </tbody>\n",
              "</table>\n",
              "</div>"
            ],
            "text/plain": [
              "             book_id        user_id         rating\n",
              "count  981756.000000  981756.000000  981756.000000\n",
              "mean     4943.275636   25616.759933       3.856534\n",
              "std      2873.207415   15228.338826       0.983941\n",
              "min         1.000000       1.000000       1.000000\n",
              "25%      2457.000000   12372.000000       3.000000\n",
              "50%      4921.000000   25077.000000       4.000000\n",
              "75%      7414.000000   38572.000000       5.000000\n",
              "max     10000.000000   53424.000000       5.000000"
            ]
          },
          "metadata": {
            "tags": []
          },
          "execution_count": 9
        }
      ]
    },
    {
      "cell_type": "code",
      "metadata": {
        "id": "BGl3W09Rou0F"
      },
      "source": [
        "s_df = sql_sc.createDataFrame(rating)"
      ],
      "execution_count": 10,
      "outputs": []
    },
    {
      "cell_type": "code",
      "metadata": {
        "colab": {
          "base_uri": "https://localhost:8080/"
        },
        "id": "A83DG5bLpnlO",
        "outputId": "25c24fe3-9526-4fdc-9779-b150703e52a2"
      },
      "source": [
        "s_df.show()"
      ],
      "execution_count": 11,
      "outputs": [
        {
          "output_type": "stream",
          "text": [
            "+-------+-------+------+\n",
            "|book_id|user_id|rating|\n",
            "+-------+-------+------+\n",
            "|      1|    314|     5|\n",
            "|      1|    439|     3|\n",
            "|      1|    588|     5|\n",
            "|      1|   1169|     4|\n",
            "|      1|   1185|     4|\n",
            "|      1|   2077|     4|\n",
            "|      1|   2487|     4|\n",
            "|      1|   2900|     5|\n",
            "|      1|   3662|     4|\n",
            "|      1|   3922|     5|\n",
            "|      1|   5379|     5|\n",
            "|      1|   5461|     3|\n",
            "|      1|   5885|     5|\n",
            "|      1|   6630|     5|\n",
            "|      1|   7563|     3|\n",
            "|      1|   9246|     1|\n",
            "|      1|  10140|     4|\n",
            "|      1|  10146|     5|\n",
            "|      1|  10246|     4|\n",
            "|      1|  10335|     4|\n",
            "+-------+-------+------+\n",
            "only showing top 20 rows\n",
            "\n"
          ],
          "name": "stdout"
        }
      ]
    },
    {
      "cell_type": "code",
      "metadata": {
        "id": "gUmZD9_2pnZw"
      },
      "source": [
        "dfs_train, dfs_test = spark_random_split(s_df, ratio=0.75, seed=42)"
      ],
      "execution_count": 12,
      "outputs": []
    },
    {
      "cell_type": "code",
      "metadata": {
        "id": "DBJIeuh8pzs1"
      },
      "source": [
        "RANK = 10\n",
        "MAX_ITER = 15\n",
        "REG_PARAM = 0.05"
      ],
      "execution_count": 13,
      "outputs": []
    },
    {
      "cell_type": "code",
      "metadata": {
        "id": "9Mv0g2FKqIqB"
      },
      "source": [
        "COL_USER = \"user_id\"\n",
        "COL_ITEM = \"book_id\"\n",
        "COL_RATING = \"rating\""
      ],
      "execution_count": 48,
      "outputs": []
    },
    {
      "cell_type": "code",
      "metadata": {
        "id": "ZthUm1Avp4VN"
      },
      "source": [
        "als = ALS(\n",
        "    maxIter=MAX_ITER, \n",
        "    rank=RANK,\n",
        "    regParam=REG_PARAM, \n",
        "    userCol=COL_USER, \n",
        "    itemCol=COL_ITEM, \n",
        "    ratingCol=COL_RATING, \n",
        "    coldStartStrategy=\"drop\"\n",
        ")\n",
        "\n",
        "model = als.fit(dfs_train)"
      ],
      "execution_count": 49,
      "outputs": []
    },
    {
      "cell_type": "code",
      "metadata": {
        "id": "wQ4PUxlfqDyh"
      },
      "source": [
        "dfs_pred = model.transform(dfs_test).drop(COL_RATING)"
      ],
      "execution_count": 50,
      "outputs": []
    },
    {
      "cell_type": "code",
      "metadata": {
        "colab": {
          "base_uri": "https://localhost:8080/"
        },
        "id": "w9NoaagoqasP",
        "outputId": "682dc80a-3673-44c7-a0ad-2ce33beb4bd9"
      },
      "source": [
        "evaluations = SparkRatingEvaluation(\n",
        "    dfs_test, \n",
        "    dfs_pred,\n",
        "    col_user=COL_USER,\n",
        "    col_item=COL_ITEM,\n",
        "    col_rating=COL_RATING,\n",
        ")\n",
        "\n",
        "print(\n",
        "    \"RMSE score = {}\".format(evaluations.rmse()),\n",
        "    \"MAE score = {}\".format(evaluations.mae()),\n",
        "    \"R2 score = {}\".format(evaluations.rsquared()),\n",
        "    \"Explained variance score = {}\".format(evaluations.exp_var()),\n",
        "    sep=\"\\n\"\n",
        ")"
      ],
      "execution_count": 51,
      "outputs": [
        {
          "output_type": "stream",
          "text": [
            "RMSE score = 0.985685733346917\n",
            "MAE score = 0.7492083603286372\n",
            "R2 score = -0.005390252253107741\n",
            "Explained variance score = 0.025921425256029584\n"
          ],
          "name": "stdout"
        }
      ]
    },
    {
      "cell_type": "code",
      "metadata": {
        "id": "czSIMqNXqeLG"
      },
      "source": [
        "# Get the cross join of all user-item pairs and score them.\n",
        "users = dfs_train.select('user_id').distinct()\n",
        "items = dfs_train.select('book_id').distinct()\n",
        "user_item = users.crossJoin(items)\n",
        "dfs_pred = model.transform(user_item)\n",
        "\n",
        "# Remove seen items.\n",
        "dfs_pred_exclude_train = dfs_pred.alias(\"pred\").join(\n",
        "    dfs_train.alias(\"train\"),\n",
        "    (dfs_pred['user_id'] == dfs_train['user_id']) & (dfs_pred['book_id'] == dfs_train['book_id']),\n",
        "    how='outer'\n",
        ")\n",
        "\n",
        "dfs_pred_final = dfs_pred_exclude_train.filter(dfs_pred_exclude_train[\"train.rating\"].isNull()) \\\n",
        "    .select('pred.' + 'user_id', 'pred.' + 'book_id', 'pred.' + \"prediction\")\n",
        "\n",
        "dfs_pred_final.show()"
      ],
      "execution_count": null,
      "outputs": []
    },
    {
      "cell_type": "code",
      "metadata": {
        "id": "xM_dHY4JPG3I"
      },
      "source": [
        "dfs_rec = model.recommendForAllUsers(10)"
      ],
      "execution_count": 52,
      "outputs": []
    },
    {
      "cell_type": "code",
      "metadata": {
        "colab": {
          "base_uri": "https://localhost:8080/"
        },
        "id": "5k89m6ShL6tR",
        "outputId": "07e7cba7-0076-45f1-ddb8-6426cba7afe5"
      },
      "source": [
        "dfs_rec.show(10)"
      ],
      "execution_count": 53,
      "outputs": [
        {
          "output_type": "stream",
          "text": [
            "+-------+--------------------+\n",
            "|user_id|     recommendations|\n",
            "+-------+--------------------+\n",
            "|    148|[{4653, 4.7775683...|\n",
            "|    463|[{4090, 5.9260564...|\n",
            "|    471|[{9486, 3.783837}...|\n",
            "|    496|[{6443, 6.955799}...|\n",
            "|    833|[{489, 6.8290014}...|\n",
            "|   1088|[{2869, 4.9752235...|\n",
            "|   1238|[{1462, 4.0536976...|\n",
            "|   1342|[{5449, 5.2474437...|\n",
            "|   1580|[{4643, 5.306282}...|\n",
            "|   1591|[{4154, 3.3804708...|\n",
            "+-------+--------------------+\n",
            "only showing top 10 rows\n",
            "\n"
          ],
          "name": "stdout"
        }
      ]
    },
    {
      "cell_type": "code",
      "metadata": {
        "id": "VxBRxKHpL8zY"
      },
      "source": [
        "users = dfs_train.select(als.getUserCol()).distinct().limit(3) #get 3 distinct random user_id\n",
        "\n",
        "dfs_rec_subset = model.recommendForUserSubset(users, 10) #return top 10 items for each users"
      ],
      "execution_count": 42,
      "outputs": []
    },
    {
      "cell_type": "code",
      "metadata": {
        "colab": {
          "base_uri": "https://localhost:8080/"
        },
        "id": "h6zytEObOj-d",
        "outputId": "fd023415-62dc-4b7d-ab57-3120558c82a5"
      },
      "source": [
        "dfs_rec_subset.show(10)"
      ],
      "execution_count": 43,
      "outputs": [
        {
          "output_type": "stream",
          "text": [
            "+-------+--------------------+\n",
            "|user_id|     recommendations|\n",
            "+-------+--------------------+\n",
            "|   8484|[{2236, 6.0364237...|\n",
            "|   8440|[{146, 5.0934772}...|\n",
            "|  11945|[{7401, 5.7783537...|\n",
            "+-------+--------------------+\n",
            "\n"
          ],
          "name": "stdout"
        }
      ]
    },
    {
      "cell_type": "code",
      "metadata": {
        "id": "lgSM-s-eOsQ4"
      },
      "source": [
        "users = dfs_train.where(dfs_train.user_id == 8484) #get user_id 8484\n",
        "\n",
        "dfs_rec_subset = model.recommendForUserSubset(users, 10) #return top 10 items for each users"
      ],
      "execution_count": 46,
      "outputs": []
    },
    {
      "cell_type": "code",
      "metadata": {
        "colab": {
          "base_uri": "https://localhost:8080/"
        },
        "id": "xX-JKxOVMorh",
        "outputId": "27dc3402-4e86-4676-c409-f29ae5815fa1"
      },
      "source": [
        "dfs_rec_subset.show(10)"
      ],
      "execution_count": 47,
      "outputs": [
        {
          "output_type": "stream",
          "text": [
            "+-------+--------------------+\n",
            "|user_id|     recommendations|\n",
            "+-------+--------------------+\n",
            "|   8484|[{2236, 6.0364237...|\n",
            "+-------+--------------------+\n",
            "\n"
          ],
          "name": "stdout"
        }
      ]
    },
    {
      "cell_type": "code",
      "metadata": {
        "id": "DiE2mnMcMzO4"
      },
      "source": [
        ""
      ],
      "execution_count": null,
      "outputs": []
    }
  ]
}